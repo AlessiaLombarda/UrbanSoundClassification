{
  "cells": [
    {
      "cell_type": "markdown",
      "metadata": {
        "id": "view-in-github",
        "colab_type": "text"
      },
      "source": [
        "<a href=\"https://colab.research.google.com/github/AlessiaLombarda/UrbanSoundClassification/blob/main/Models.ipynb\" target=\"_parent\"><img src=\"https://colab.research.google.com/assets/colab-badge.svg\" alt=\"Open In Colab\"/></a>"
      ]
    },
    {
      "cell_type": "markdown",
      "metadata": {
        "id": "Q_cVBqb1_jgn"
      },
      "source": [
        "##Setup and utils"
      ]
    },
    {
      "cell_type": "code",
      "execution_count": null,
      "metadata": {
        "id": "Ahub2lDRzrXU"
      },
      "outputs": [],
      "source": [
        "!pip install librosa"
      ]
    },
    {
      "cell_type": "code",
      "execution_count": 9,
      "metadata": {
        "id": "j7kYose0zwL8"
      },
      "outputs": [],
      "source": [
        "import os\n",
        "import csv\n",
        "import librosa\n",
        "import numpy as np\n",
        "import pandas as pd\n",
        "import librosa.display\n",
        "import tensorflow as tf\n",
        "from pathlib import Path\n",
        "import scipy.stats as scp\n",
        "import matplotlib.pyplot as plt\n",
        "from scipy.io.wavfile import write\n",
        "from sklearn.preprocessing import MinMaxScaler"
      ]
    },
    {
      "cell_type": "code",
      "execution_count": 17,
      "metadata": {
        "id": "Rn-g6nejuB3c"
      },
      "outputs": [],
      "source": [
        "from tensorflow.keras import layers\n",
        "from tensorflow.keras import models"
      ]
    },
    {
      "cell_type": "markdown",
      "source": [
        "Function to delete a given dataset\n"
      ],
      "metadata": {
        "id": "xGPFd-0xgGj5"
      }
    },
    {
      "cell_type": "code",
      "source": [
        "def delete_ds(path):\n",
        "  for dir in os.listdir(path):\n",
        "    if(dir!='.DS_Store'):\n",
        "      for file in os.listdir(path+\"/\"+dir+\"/\"):\n",
        "        if(file!='.DS_Store'):\n",
        "          os.remove(path+\"/\"+dir+\"/\"+file)\n",
        "      os.rmdir(path+\"/\"+dir)\n",
        "\n",
        "  os.rmdir(path)"
      ],
      "metadata": {
        "id": "52xecmglX6E-"
      },
      "execution_count": 29,
      "outputs": []
    },
    {
      "cell_type": "markdown",
      "metadata": {
        "id": "PYwmfjmftord"
      },
      "source": [
        "##Load"
      ]
    },
    {
      "cell_type": "code",
      "execution_count": null,
      "metadata": {
        "id": "65SVtEcttnmH"
      },
      "outputs": [],
      "source": [
        "from google.colab import drive\n",
        "drive.mount('/content/drive')\n",
        "!cp /content/drive/MyDrive/statistics.csv /content/statistics.csv\n",
        "drive.flush_and_unmount()"
      ]
    },
    {
      "cell_type": "code",
      "source": [
        "drive.mount('/content/drive')\n",
        "!tar -xf /content/drive/MyDrive/UrbanSoundPreprocessed.tar.gz\n",
        "drive.flush_and_unmount()\n",
        "!cp -r /content/content/UrbanSoundPreprocessed /content/UrbanSoundPreprocessed\n",
        "delete_ds(\"/content/content/UrbanSoundPreprocessed/\")\n",
        "os.rmdir(\"/content/content/\")"
      ],
      "metadata": {
        "id": "SorwxKNBMgfA"
      },
      "execution_count": null,
      "outputs": []
    },
    {
      "cell_type": "code",
      "source": [
        "delete_ds(\"/content/content/UrbanSoundPreprocessed/\")\n",
        "os.rmdir(\"/content/content/\")"
      ],
      "metadata": {
        "id": "ZN4I5VGgkZjr"
      },
      "execution_count": 30,
      "outputs": []
    },
    {
      "cell_type": "code",
      "source": [
        "data = pd.read_csv('/content/statistics.csv')\n",
        "data.head()"
      ],
      "metadata": {
        "id": "B3QOu2vCXy3O",
        "colab": {
          "base_uri": "https://localhost:8080/",
          "height": 300
        },
        "outputId": "4b380388-deb0-4f15-d525-ab9d60c75f6e"
      },
      "execution_count": 13,
      "outputs": [
        {
          "output_type": "execute_result",
          "data": {
            "text/plain": [
              "            filename       min       max    median      mean       var  \\\n",
              "0  155242-9-0-44.wav -0.641214  0.677659 -0.000127 -0.000222  0.011993   \n",
              "1    60935-2-0-0.wav -0.057131  0.069105  0.000000 -0.000014  0.000089   \n",
              "2   58937-4-0-12.wav -0.580689  0.524841  0.001114 -0.000209  0.008145   \n",
              "3   39856-5-0-11.wav -1.000000  0.999969  0.000000 -0.003131  0.170600   \n",
              "4   79089-0-0-73.wav -0.688963  0.915431 -0.000276 -0.001193  0.008306   \n",
              "\n",
              "          rms  energy_min  energy_max  energy_median  ...  chroma11_median  \\\n",
              "0  493.407560    0.022887    0.219585       0.090520  ...         0.611251   \n",
              "1  699.353800    0.001015    0.035245       0.003274  ...         0.238961   \n",
              "2  431.849270    0.023346    0.159962       0.083212  ...         0.528279   \n",
              "3  131.920930    0.120246    0.516182       0.414045  ...         0.486282   \n",
              "4   76.422585    0.025862    0.248881       0.049012  ...         0.445517   \n",
              "\n",
              "   chroma11_mean  chroma11_var  chroma12_min  chroma12_max  chroma12_median  \\\n",
              "0       0.639246      0.088220      0.047971           1.0         0.361837   \n",
              "1       0.319140      0.079946      0.004396           1.0         0.294113   \n",
              "2       0.536120      0.036420      0.180515           1.0         0.540637   \n",
              "3       0.506858      0.074786      0.064597           1.0         0.494290   \n",
              "4       0.440587      0.048172      0.029658           1.0         0.609756   \n",
              "\n",
              "   chroma12_mean  chroma12_var  fold  class  \n",
              "0       0.379732      0.045425     9      9  \n",
              "1       0.380026      0.102235     9      2  \n",
              "2       0.558196      0.037676     9      4  \n",
              "3       0.520847      0.064415     9      5  \n",
              "4       0.607751      0.079218     9      0  \n",
              "\n",
              "[5 rows x 374 columns]"
            ],
            "text/html": [
              "\n",
              "  <div id=\"df-18490670-2954-4b18-91bf-713e0f6bc1ef\">\n",
              "    <div class=\"colab-df-container\">\n",
              "      <div>\n",
              "<style scoped>\n",
              "    .dataframe tbody tr th:only-of-type {\n",
              "        vertical-align: middle;\n",
              "    }\n",
              "\n",
              "    .dataframe tbody tr th {\n",
              "        vertical-align: top;\n",
              "    }\n",
              "\n",
              "    .dataframe thead th {\n",
              "        text-align: right;\n",
              "    }\n",
              "</style>\n",
              "<table border=\"1\" class=\"dataframe\">\n",
              "  <thead>\n",
              "    <tr style=\"text-align: right;\">\n",
              "      <th></th>\n",
              "      <th>filename</th>\n",
              "      <th>min</th>\n",
              "      <th>max</th>\n",
              "      <th>median</th>\n",
              "      <th>mean</th>\n",
              "      <th>var</th>\n",
              "      <th>rms</th>\n",
              "      <th>energy_min</th>\n",
              "      <th>energy_max</th>\n",
              "      <th>energy_median</th>\n",
              "      <th>...</th>\n",
              "      <th>chroma11_median</th>\n",
              "      <th>chroma11_mean</th>\n",
              "      <th>chroma11_var</th>\n",
              "      <th>chroma12_min</th>\n",
              "      <th>chroma12_max</th>\n",
              "      <th>chroma12_median</th>\n",
              "      <th>chroma12_mean</th>\n",
              "      <th>chroma12_var</th>\n",
              "      <th>fold</th>\n",
              "      <th>class</th>\n",
              "    </tr>\n",
              "  </thead>\n",
              "  <tbody>\n",
              "    <tr>\n",
              "      <th>0</th>\n",
              "      <td>155242-9-0-44.wav</td>\n",
              "      <td>-0.641214</td>\n",
              "      <td>0.677659</td>\n",
              "      <td>-0.000127</td>\n",
              "      <td>-0.000222</td>\n",
              "      <td>0.011993</td>\n",
              "      <td>493.407560</td>\n",
              "      <td>0.022887</td>\n",
              "      <td>0.219585</td>\n",
              "      <td>0.090520</td>\n",
              "      <td>...</td>\n",
              "      <td>0.611251</td>\n",
              "      <td>0.639246</td>\n",
              "      <td>0.088220</td>\n",
              "      <td>0.047971</td>\n",
              "      <td>1.0</td>\n",
              "      <td>0.361837</td>\n",
              "      <td>0.379732</td>\n",
              "      <td>0.045425</td>\n",
              "      <td>9</td>\n",
              "      <td>9</td>\n",
              "    </tr>\n",
              "    <tr>\n",
              "      <th>1</th>\n",
              "      <td>60935-2-0-0.wav</td>\n",
              "      <td>-0.057131</td>\n",
              "      <td>0.069105</td>\n",
              "      <td>0.000000</td>\n",
              "      <td>-0.000014</td>\n",
              "      <td>0.000089</td>\n",
              "      <td>699.353800</td>\n",
              "      <td>0.001015</td>\n",
              "      <td>0.035245</td>\n",
              "      <td>0.003274</td>\n",
              "      <td>...</td>\n",
              "      <td>0.238961</td>\n",
              "      <td>0.319140</td>\n",
              "      <td>0.079946</td>\n",
              "      <td>0.004396</td>\n",
              "      <td>1.0</td>\n",
              "      <td>0.294113</td>\n",
              "      <td>0.380026</td>\n",
              "      <td>0.102235</td>\n",
              "      <td>9</td>\n",
              "      <td>2</td>\n",
              "    </tr>\n",
              "    <tr>\n",
              "      <th>2</th>\n",
              "      <td>58937-4-0-12.wav</td>\n",
              "      <td>-0.580689</td>\n",
              "      <td>0.524841</td>\n",
              "      <td>0.001114</td>\n",
              "      <td>-0.000209</td>\n",
              "      <td>0.008145</td>\n",
              "      <td>431.849270</td>\n",
              "      <td>0.023346</td>\n",
              "      <td>0.159962</td>\n",
              "      <td>0.083212</td>\n",
              "      <td>...</td>\n",
              "      <td>0.528279</td>\n",
              "      <td>0.536120</td>\n",
              "      <td>0.036420</td>\n",
              "      <td>0.180515</td>\n",
              "      <td>1.0</td>\n",
              "      <td>0.540637</td>\n",
              "      <td>0.558196</td>\n",
              "      <td>0.037676</td>\n",
              "      <td>9</td>\n",
              "      <td>4</td>\n",
              "    </tr>\n",
              "    <tr>\n",
              "      <th>3</th>\n",
              "      <td>39856-5-0-11.wav</td>\n",
              "      <td>-1.000000</td>\n",
              "      <td>0.999969</td>\n",
              "      <td>0.000000</td>\n",
              "      <td>-0.003131</td>\n",
              "      <td>0.170600</td>\n",
              "      <td>131.920930</td>\n",
              "      <td>0.120246</td>\n",
              "      <td>0.516182</td>\n",
              "      <td>0.414045</td>\n",
              "      <td>...</td>\n",
              "      <td>0.486282</td>\n",
              "      <td>0.506858</td>\n",
              "      <td>0.074786</td>\n",
              "      <td>0.064597</td>\n",
              "      <td>1.0</td>\n",
              "      <td>0.494290</td>\n",
              "      <td>0.520847</td>\n",
              "      <td>0.064415</td>\n",
              "      <td>9</td>\n",
              "      <td>5</td>\n",
              "    </tr>\n",
              "    <tr>\n",
              "      <th>4</th>\n",
              "      <td>79089-0-0-73.wav</td>\n",
              "      <td>-0.688963</td>\n",
              "      <td>0.915431</td>\n",
              "      <td>-0.000276</td>\n",
              "      <td>-0.001193</td>\n",
              "      <td>0.008306</td>\n",
              "      <td>76.422585</td>\n",
              "      <td>0.025862</td>\n",
              "      <td>0.248881</td>\n",
              "      <td>0.049012</td>\n",
              "      <td>...</td>\n",
              "      <td>0.445517</td>\n",
              "      <td>0.440587</td>\n",
              "      <td>0.048172</td>\n",
              "      <td>0.029658</td>\n",
              "      <td>1.0</td>\n",
              "      <td>0.609756</td>\n",
              "      <td>0.607751</td>\n",
              "      <td>0.079218</td>\n",
              "      <td>9</td>\n",
              "      <td>0</td>\n",
              "    </tr>\n",
              "  </tbody>\n",
              "</table>\n",
              "<p>5 rows × 374 columns</p>\n",
              "</div>\n",
              "      <button class=\"colab-df-convert\" onclick=\"convertToInteractive('df-18490670-2954-4b18-91bf-713e0f6bc1ef')\"\n",
              "              title=\"Convert this dataframe to an interactive table.\"\n",
              "              style=\"display:none;\">\n",
              "        \n",
              "  <svg xmlns=\"http://www.w3.org/2000/svg\" height=\"24px\"viewBox=\"0 0 24 24\"\n",
              "       width=\"24px\">\n",
              "    <path d=\"M0 0h24v24H0V0z\" fill=\"none\"/>\n",
              "    <path d=\"M18.56 5.44l.94 2.06.94-2.06 2.06-.94-2.06-.94-.94-2.06-.94 2.06-2.06.94zm-11 1L8.5 8.5l.94-2.06 2.06-.94-2.06-.94L8.5 2.5l-.94 2.06-2.06.94zm10 10l.94 2.06.94-2.06 2.06-.94-2.06-.94-.94-2.06-.94 2.06-2.06.94z\"/><path d=\"M17.41 7.96l-1.37-1.37c-.4-.4-.92-.59-1.43-.59-.52 0-1.04.2-1.43.59L10.3 9.45l-7.72 7.72c-.78.78-.78 2.05 0 2.83L4 21.41c.39.39.9.59 1.41.59.51 0 1.02-.2 1.41-.59l7.78-7.78 2.81-2.81c.8-.78.8-2.07 0-2.86zM5.41 20L4 18.59l7.72-7.72 1.47 1.35L5.41 20z\"/>\n",
              "  </svg>\n",
              "      </button>\n",
              "      \n",
              "  <style>\n",
              "    .colab-df-container {\n",
              "      display:flex;\n",
              "      flex-wrap:wrap;\n",
              "      gap: 12px;\n",
              "    }\n",
              "\n",
              "    .colab-df-convert {\n",
              "      background-color: #E8F0FE;\n",
              "      border: none;\n",
              "      border-radius: 50%;\n",
              "      cursor: pointer;\n",
              "      display: none;\n",
              "      fill: #1967D2;\n",
              "      height: 32px;\n",
              "      padding: 0 0 0 0;\n",
              "      width: 32px;\n",
              "    }\n",
              "\n",
              "    .colab-df-convert:hover {\n",
              "      background-color: #E2EBFA;\n",
              "      box-shadow: 0px 1px 2px rgba(60, 64, 67, 0.3), 0px 1px 3px 1px rgba(60, 64, 67, 0.15);\n",
              "      fill: #174EA6;\n",
              "    }\n",
              "\n",
              "    [theme=dark] .colab-df-convert {\n",
              "      background-color: #3B4455;\n",
              "      fill: #D2E3FC;\n",
              "    }\n",
              "\n",
              "    [theme=dark] .colab-df-convert:hover {\n",
              "      background-color: #434B5C;\n",
              "      box-shadow: 0px 1px 3px 1px rgba(0, 0, 0, 0.15);\n",
              "      filter: drop-shadow(0px 1px 2px rgba(0, 0, 0, 0.3));\n",
              "      fill: #FFFFFF;\n",
              "    }\n",
              "  </style>\n",
              "\n",
              "      <script>\n",
              "        const buttonEl =\n",
              "          document.querySelector('#df-18490670-2954-4b18-91bf-713e0f6bc1ef button.colab-df-convert');\n",
              "        buttonEl.style.display =\n",
              "          google.colab.kernel.accessAllowed ? 'block' : 'none';\n",
              "\n",
              "        async function convertToInteractive(key) {\n",
              "          const element = document.querySelector('#df-18490670-2954-4b18-91bf-713e0f6bc1ef');\n",
              "          const dataTable =\n",
              "            await google.colab.kernel.invokeFunction('convertToInteractive',\n",
              "                                                     [key], {});\n",
              "          if (!dataTable) return;\n",
              "\n",
              "          const docLinkHtml = 'Like what you see? Visit the ' +\n",
              "            '<a target=\"_blank\" href=https://colab.research.google.com/notebooks/data_table.ipynb>data table notebook</a>'\n",
              "            + ' to learn more about interactive tables.';\n",
              "          element.innerHTML = '';\n",
              "          dataTable['output_type'] = 'display_data';\n",
              "          await google.colab.output.renderOutput(dataTable, element);\n",
              "          const docLink = document.createElement('div');\n",
              "          docLink.innerHTML = docLinkHtml;\n",
              "          element.appendChild(docLink);\n",
              "        }\n",
              "      </script>\n",
              "    </div>\n",
              "  </div>\n",
              "  "
            ]
          },
          "metadata": {},
          "execution_count": 13
        }
      ]
    },
    {
      "cell_type": "markdown",
      "source": [
        "Distribution of samples for each category in train and test folds"
      ],
      "metadata": {
        "id": "UumuxMU1sCoy"
      }
    },
    {
      "cell_type": "code",
      "source": [
        "stats = pd.read_csv(\"/content/statistics.csv\")\n",
        "stats[(stats['fold']==1)|(stats['fold']==2)|(stats['fold']==3)|(stats['fold']==4)|(stats['fold']==6)]['class'].value_counts().sort_index()"
      ],
      "metadata": {
        "colab": {
          "base_uri": "https://localhost:8080/"
        },
        "id": "qvtv1K-0pHJL",
        "outputId": "79081bdd-193d-41c0-b028-0674dfa56ded"
      },
      "execution_count": null,
      "outputs": [
        {
          "output_type": "execute_result",
          "data": {
            "text/plain": [
              "0    500\n",
              "1    208\n",
              "2    500\n",
              "3    500\n",
              "4    500\n",
              "5    517\n",
              "6    190\n",
              "7    548\n",
              "8    536\n",
              "9    500\n",
              "Name: class, dtype: int64"
            ]
          },
          "metadata": {},
          "execution_count": 8
        }
      ]
    },
    {
      "cell_type": "code",
      "source": [
        "stats = pd.read_csv(\"/content/statistics.csv\")\n",
        "stats[(stats['fold']==5)|(stats['fold']==7)|(stats['fold']==8)|(stats['fold']==9)|(stats['fold']==10)]['class'].value_counts().sort_index()"
      ],
      "metadata": {
        "colab": {
          "base_uri": "https://localhost:8080/"
        },
        "id": "0VCOf_DotyGt",
        "outputId": "58f090b9-5c71-4ba7-dde7-e9dcb6353c3f"
      },
      "execution_count": null,
      "outputs": [
        {
          "output_type": "execute_result",
          "data": {
            "text/plain": [
              "0    500\n",
              "1    221\n",
              "2    500\n",
              "3    500\n",
              "4    500\n",
              "5    483\n",
              "6    184\n",
              "7    452\n",
              "8    393\n",
              "9    500\n",
              "Name: class, dtype: int64"
            ]
          },
          "metadata": {},
          "execution_count": 9
        }
      ]
    },
    {
      "cell_type": "markdown",
      "source": [
        "##Models"
      ],
      "metadata": {
        "id": "V-39NZbxWt7T"
      }
    },
    {
      "cell_type": "markdown",
      "source": [
        "In this section the functions to create models' architectures are defined"
      ],
      "metadata": {
        "id": "2r-8uKl6gRDv"
      }
    },
    {
      "cell_type": "code",
      "source": [
        "def create_raw_model(input_shape):\n",
        "  model = models.Sequential()\n",
        "  model.add(layers.Conv1D(filters=64, kernel_size=5, input_shape=input_shape, activation='relu')) \n",
        "  model.add(layers.MaxPooling1D(pool_size=2))\n",
        "  model.add(layers.Dropout(0.2))\n",
        "\n",
        "  model.add(layers.Conv1D(filters=128, kernel_size=4, activation='relu'))\n",
        "  model.add(layers.MaxPooling1D(pool_size=2))\n",
        "  model.add(layers.Dropout(0.2))\n",
        "\n",
        "  model.add(layers.Conv1D(filters=256, kernel_size=3, activation='relu'))\n",
        "  model.add(layers.MaxPooling1D(pool_size=2))\n",
        "  model.add(layers.Dropout(0.2))\n",
        "\n",
        "  model.add(layers.Conv1D(filters=512, kernel_size=2, activation='relu'))\n",
        "  model.add(layers.MaxPooling1D(pool_size=2))\n",
        "  model.add(layers.Dropout(0.2))\n",
        "\n",
        "  model.add(layers.GlobalAveragePooling1D())\n",
        "\n",
        "  model.add(layers.Dense(10, activation='softmax'))\n",
        "  \n",
        "  return model"
      ],
      "metadata": {
        "id": "ZflBmYJAj1EK"
      },
      "execution_count": 18,
      "outputs": []
    },
    {
      "cell_type": "code",
      "source": [
        "def create_base_model(input_shape):\n",
        "  model = models.Sequential()\n",
        "  model.add(layers.Dense(1024, input_shape = input_shape, activation = 'relu')),\n",
        "  model.add(layers.Dense(512, activation = 'relu')),\n",
        "  model.add(layers.Dense(10, activation='softmax'))\n",
        "\n",
        "  return model"
      ],
      "metadata": {
        "id": "VBJGIOJjWcea"
      },
      "execution_count": 19,
      "outputs": []
    },
    {
      "cell_type": "code",
      "source": [
        "def create_adv1_model(input_shape):\n",
        "  model = models.Sequential()\n",
        "  model.add(layers.Dense(1024, input_shape = input_shape, activation = 'relu')),\n",
        "  model.add(layers.Dense(512, activation = 'relu')),\n",
        "  model.add(layers.Dense(10, activation='softmax'))\n",
        "\n",
        "  return model"
      ],
      "metadata": {
        "id": "RUJYsItTWa6H"
      },
      "execution_count": 20,
      "outputs": []
    },
    {
      "cell_type": "code",
      "source": [
        "def create_adv2_model(input_shape):\n",
        "  model = models.Sequential()\n",
        "  model.add(layers.Dense(64, input_shape = input_shape, activation = 'relu')),\n",
        "  model.add(layers.Dense(64, activation = 'relu')),\n",
        "  model.add(layers.Dense(32, activation = 'relu')),\n",
        "  model.add(layers.Dense(16, activation = 'relu')),\n",
        "  model.add(layers.Dense(10, activation='softmax'))\n",
        "\n",
        "  return model"
      ],
      "metadata": {
        "id": "zMKtAxFlLDHO"
      },
      "execution_count": 21,
      "outputs": []
    },
    {
      "cell_type": "code",
      "source": [
        "def create_pca_model(input_shape):\n",
        "  model = models.Sequential()\n",
        "  model.add(layers.Dense(64, input_shape = input_shape, activation = 'relu')),\n",
        "  model.add(layers.Dense(32, activation = 'relu')),\n",
        "  model.add(layers.Dense(10, activation='softmax'))\n",
        "\n",
        "  return model"
      ],
      "metadata": {
        "id": "nrPrAmvAPT4E"
      },
      "execution_count": 22,
      "outputs": []
    },
    {
      "cell_type": "code",
      "source": [
        "def create_mel_model(input_shape):\n",
        "  model = models.Sequential()\n",
        "  model.add(layers.Conv2D(filters=16, kernel_size=5, input_shape=input_shape, activation='relu')) \n",
        "  model.add(layers.MaxPooling2D(pool_size=2))\n",
        "  model.add(layers.Dropout(0.2))\n",
        "\n",
        "  model.add(layers.Conv2D(filters=32, kernel_size=4, activation='relu'))  \n",
        "  model.add(layers.MaxPooling2D(pool_size=2))\n",
        "  model.add(layers.Dropout(0.2))\n",
        "\n",
        "  model.add(layers.Conv2D(filters=64, kernel_size=2, activation='relu'))\n",
        "  model.add(layers.MaxPooling2D(pool_size=2))\n",
        "  model.add(layers.Dropout(0.2))\n",
        "\n",
        "  model.add(layers.Conv2D(filters=128, kernel_size=2, activation='relu'))\n",
        "  model.add(layers.MaxPooling2D(pool_size=2))\n",
        "  model.add(layers.Dropout(0.2))\n",
        "\n",
        "  model.add(layers.GlobalAveragePooling2D())\n",
        "\n",
        "  model.add(layers.Dense(10, activation='softmax'))\n",
        "  \n",
        "  return model"
      ],
      "metadata": {
        "id": "Nt2y7_D7NLh5"
      },
      "execution_count": 23,
      "outputs": []
    },
    {
      "cell_type": "code",
      "source": [
        "def create_mfcc_model(input_shape):\n",
        "  model = models.Sequential()\n",
        "  model.add(layers.Conv2D(filters=16, kernel_size=5, input_shape=input_shape, activation='relu')) \n",
        "  model.add(layers.MaxPooling2D(pool_size=2))\n",
        "  model.add(layers.Dropout(0.2))\n",
        "\n",
        "  model.add(layers.Conv2D(filters=32, kernel_size=4, activation='relu'))  \n",
        "  model.add(layers.MaxPooling2D(pool_size=2))\n",
        "  model.add(layers.Dropout(0.2))\n",
        "\n",
        "  model.add(layers.Conv2D(filters=64, kernel_size=2, activation='relu'))\n",
        "  model.add(layers.MaxPooling2D(pool_size=2))\n",
        "  model.add(layers.Dropout(0.2))\n",
        "\n",
        "  model.add(layers.Conv2D(filters=128, kernel_size=2, activation='relu'))\n",
        "  model.add(layers.MaxPooling2D(pool_size=2))\n",
        "  model.add(layers.Dropout(0.2))\n",
        "\n",
        "  model.add(layers.GlobalAveragePooling2D())\n",
        "\n",
        "  model.add(layers.Dense(10, activation='softmax'))\n",
        "  \n",
        "  return model"
      ],
      "metadata": {
        "id": "8oE03-9aWrpY"
      },
      "execution_count": 24,
      "outputs": []
    },
    {
      "cell_type": "code",
      "source": [
        "def create_chroma_model(input_shape):\n",
        "  model = models.Sequential()\n",
        "  model.add(layers.Conv2D(filters=128, kernel_size=2, input_shape=input_shape, activation='relu'))\n",
        "  model.add(layers.MaxPooling2D(pool_size=2))\n",
        "  model.add(layers.Dropout(0.2))\n",
        "\n",
        "  model.add(layers.Conv2D(filters=256, kernel_size=2, activation='relu'))\n",
        "  model.add(layers.MaxPooling2D(pool_size=2))\n",
        "  model.add(layers.Dropout(0.2))\n",
        "\n",
        "  model.add(layers.GlobalAveragePooling2D())\n",
        "  model.add(layers.Dense(10, activation='softmax'))\n",
        "  \n",
        "  return model"
      ],
      "metadata": {
        "id": "t4qWPTcJXCsp"
      },
      "execution_count": 25,
      "outputs": []
    },
    {
      "cell_type": "markdown",
      "source": [
        "##Raw data"
      ],
      "metadata": {
        "id": "2CSTNl15pE8k"
      }
    },
    {
      "cell_type": "code",
      "source": [
        "raw_x_train = []\n",
        "raw_y_train = []\n",
        "\n",
        "for dir in os.listdir(\"/content/UrbanSoundPreprocessed\"):\n",
        "    for file in os.listdir(\"/content/UrbanSoundPreprocessed/\"+dir+\"/\"):\n",
        "      if ((dir == 'fold1') | (dir == 'fold2') | (dir == 'fold3') | (dir == 'fold4') | (dir == 'fold6')):\n",
        "        file_path = \"./UrbanSoundPreprocessed/\"+dir+\"/\"+file\n",
        "        sound_file, sampling_rate = librosa.load(file_path, sr = 22050)\n",
        "        raw_x_train.append(sound_file)\n",
        "        raw_y_train.append(data['class'][data['filename']==file].item())"
      ],
      "metadata": {
        "id": "BHKoSm6bvPBX"
      },
      "execution_count": null,
      "outputs": []
    },
    {
      "cell_type": "code",
      "source": [
        "rx = np.array(raw_x_train)\n",
        "ry = np.array(raw_y_train)\n",
        "del raw_x_train\n",
        "del raw_y_train"
      ],
      "metadata": {
        "id": "_Bw0g9iLeFVZ"
      },
      "execution_count": null,
      "outputs": []
    },
    {
      "cell_type": "code",
      "source": [
        "rx = rx.reshape(rx.shape[0], rx.shape[1], 1)\n",
        "input_shape = rx.shape[1:]\n",
        "print(input_shape)"
      ],
      "metadata": {
        "id": "x2aIkbuxezYX",
        "colab": {
          "base_uri": "https://localhost:8080/"
        },
        "outputId": "1171ec0e-00f3-47f2-b4e4-1d645b1b3559"
      },
      "execution_count": null,
      "outputs": [
        {
          "output_type": "stream",
          "name": "stdout",
          "text": [
            "(89009, 1)\n"
          ]
        }
      ]
    },
    {
      "cell_type": "code",
      "source": [
        "#model structure \n",
        "raw_model = create_raw_model(input_shape)"
      ],
      "metadata": {
        "id": "b9jQGHX3MRLU"
      },
      "execution_count": null,
      "outputs": []
    },
    {
      "cell_type": "code",
      "source": [
        "#model compilation and setup\n",
        "raw_model.compile(optimizer = 'adam',\n",
        "  loss = tf.keras.losses.SparseCategoricalCrossentropy(),\n",
        "  metrics = ['accuracy']\n",
        ")"
      ],
      "metadata": {
        "id": "sPD3oUqAMTWl"
      },
      "execution_count": null,
      "outputs": []
    },
    {
      "cell_type": "code",
      "source": [
        "#training\n",
        "EPOCHS = 100\n",
        "BATCH_SIZE = 16\n",
        "raw_model.fit(rx, ry, epochs=EPOCHS, batch_size=BATCH_SIZE)"
      ],
      "metadata": {
        "id": "LHM2OACKMVAU"
      },
      "execution_count": null,
      "outputs": []
    },
    {
      "cell_type": "code",
      "source": [
        "del rx\n",
        "del ry\n",
        "print(raw_model.summary())"
      ],
      "metadata": {
        "id": "Cfuf4NViC4aF",
        "colab": {
          "base_uri": "https://localhost:8080/"
        },
        "outputId": "b40df0af-b2d0-4b98-b16e-42e9d39ab717"
      },
      "execution_count": null,
      "outputs": [
        {
          "output_type": "stream",
          "name": "stdout",
          "text": [
            "Model: \"sequential_1\"\n",
            "_________________________________________________________________\n",
            " Layer (type)                Output Shape              Param #   \n",
            "=================================================================\n",
            " conv1d_4 (Conv1D)           (None, 89005, 64)         384       \n",
            "                                                                 \n",
            " max_pooling1d_4 (MaxPooling  (None, 44502, 64)        0         \n",
            " 1D)                                                             \n",
            "                                                                 \n",
            " dropout_4 (Dropout)         (None, 44502, 64)         0         \n",
            "                                                                 \n",
            " conv1d_5 (Conv1D)           (None, 44499, 128)        32896     \n",
            "                                                                 \n",
            " max_pooling1d_5 (MaxPooling  (None, 22249, 128)       0         \n",
            " 1D)                                                             \n",
            "                                                                 \n",
            " dropout_5 (Dropout)         (None, 22249, 128)        0         \n",
            "                                                                 \n",
            " conv1d_6 (Conv1D)           (None, 22247, 256)        98560     \n",
            "                                                                 \n",
            " max_pooling1d_6 (MaxPooling  (None, 11123, 256)       0         \n",
            " 1D)                                                             \n",
            "                                                                 \n",
            " dropout_6 (Dropout)         (None, 11123, 256)        0         \n",
            "                                                                 \n",
            " conv1d_7 (Conv1D)           (None, 11122, 512)        262656    \n",
            "                                                                 \n",
            " max_pooling1d_7 (MaxPooling  (None, 5561, 512)        0         \n",
            " 1D)                                                             \n",
            "                                                                 \n",
            " dropout_7 (Dropout)         (None, 5561, 512)         0         \n",
            "                                                                 \n",
            " global_average_pooling1d_1   (None, 512)              0         \n",
            " (GlobalAveragePooling1D)                                        \n",
            "                                                                 \n",
            " dense_1 (Dense)             (None, 10)                5130      \n",
            "                                                                 \n",
            "=================================================================\n",
            "Total params: 399,626\n",
            "Trainable params: 399,626\n",
            "Non-trainable params: 0\n",
            "_________________________________________________________________\n",
            "None\n"
          ]
        }
      ]
    },
    {
      "cell_type": "code",
      "source": [
        "raw_x_test = []\n",
        "raw_y_test = []\n",
        "\n",
        "for dir in os.listdir(\"/content/UrbanSoundPreprocessed\"):\n",
        "    for file in os.listdir(\"/content/UrbanSoundPreprocessed/\"+dir+\"/\"):\n",
        "      if ((dir == 'fold5') | (dir == 'fold7') | (dir == 'fold8') | (dir == 'fold9') | (dir == 'fold10')):\n",
        "        file_path = \"./UrbanSoundPreprocessed/\"+dir+\"/\"+file\n",
        "        sound_file, sampling_rate = librosa.load(file_path, sr = 22050)\n",
        "        raw_x_test.append(sound_file)\n",
        "        raw_y_test.append(data['class'][data['filename']==file].item())"
      ],
      "metadata": {
        "id": "Iepsbs_jBhmi"
      },
      "execution_count": null,
      "outputs": []
    },
    {
      "cell_type": "code",
      "source": [
        "rxt = np.array(raw_x_test)\n",
        "del raw_x_test\n",
        "ryt = np.array(raw_y_test)\n",
        "del raw_y_test"
      ],
      "metadata": {
        "id": "nZxZnjVgBwbb"
      },
      "execution_count": null,
      "outputs": []
    },
    {
      "cell_type": "code",
      "source": [
        "#testing\n",
        "test_loss, test_acc = raw_model.evaluate(rxt, ryt, verbose = 1)\n",
        "print(test_acc)"
      ],
      "metadata": {
        "id": "wISgnYjtMWqE",
        "colab": {
          "base_uri": "https://localhost:8080/"
        },
        "outputId": "71b576fc-aaea-4907-a2e8-3b101816085a"
      },
      "execution_count": null,
      "outputs": [
        {
          "output_type": "stream",
          "name": "stdout",
          "text": [
            "133/133 [==============================] - 37s 272ms/step - loss: 5.7546 - accuracy: 0.4843\n",
            "0.48429009318351746\n"
          ]
        }
      ]
    },
    {
      "cell_type": "code",
      "source": [
        "y_pred = np.argmax(raw_model.predict(rxt), axis=1)\n",
        "y_pred_2 = np.argsort(raw_model.predict(rxt), axis=1)[:,-2]\n",
        "y_true = ryt\n",
        "\n",
        "test_acc = (sum(y_pred == y_true) + sum(y_pred_2 == y_true))/ len(y_true)\n",
        "print(f'Test set accuracy: {test_acc:.0%}')"
      ],
      "metadata": {
        "id": "Ewb9VEUNf8Wq",
        "colab": {
          "base_uri": "https://localhost:8080/"
        },
        "outputId": "3b77d7e5-f322-422d-ac78-e2eefb120031"
      },
      "execution_count": null,
      "outputs": [
        {
          "output_type": "stream",
          "name": "stdout",
          "text": [
            "Test set accuracy: 65%\n"
          ]
        }
      ]
    },
    {
      "cell_type": "code",
      "source": [
        "import seaborn as sns\n",
        "categories = ['air_conditioner', 'car_horn', 'children_playing', 'dog_bark', 'drilling', 'engine_idling', 'gun_shot', 'jackhammer', 'siren', 'street_music']\n",
        "\n",
        "confusion_mtx = tf.math.confusion_matrix(y_true, y_pred)\n",
        "plt.figure(figsize=(10, 8))\n",
        "sns.heatmap(confusion_mtx,\n",
        "            xticklabels=categories,\n",
        "            yticklabels=categories,\n",
        "            annot=True, fmt='g')\n",
        "plt.xlabel('Prediction')\n",
        "plt.ylabel('Label')\n",
        "plt.show()"
      ],
      "metadata": {
        "id": "XR5gmHDKf1Cg",
        "colab": {
          "base_uri": "https://localhost:8080/",
          "height": 569
        },
        "outputId": "c6a939f2-86e6-4a7a-f7db-43179f14d726"
      },
      "execution_count": null,
      "outputs": [
        {
          "output_type": "display_data",
          "data": {
            "text/plain": [
              "<Figure size 720x576 with 2 Axes>"
            ],
            "image/png": "[encoded data removed]"
          },
          "metadata": {
            "needs_background": "light"
          }
        }
      ]
    },
    {
      "cell_type": "markdown",
      "metadata": {
        "id": "HZxa4HrdsECc"
      },
      "source": [
        "##Base statistics\n"
      ]
    },
    {
      "cell_type": "code",
      "execution_count": null,
      "metadata": {
        "id": "xtSWQTZLr_J8"
      },
      "outputs": [],
      "source": [
        "scaler = MinMaxScaler()\n",
        "rescaled_x = scaler.fit_transform(data[['min', 'max', 'median', 'mean', 'var', 'rms',\n",
        "                                    'energy_min', 'energy_max', 'energy_median', 'energy_mean', 'energy_var', \n",
        "                                    'zcr_min', 'zcr_max', 'zcr_median', 'zcr_mean', 'zcr_var',\n",
        "                                    'cent_min', 'cent_max', 'cent_median', 'cent_mean', 'cent_var',\n",
        "                                    'bw_min', 'bw_max', 'bw_median', 'bw_mean', 'bw_var', \n",
        "                                    'rolloff_min', 'rolloff_max', 'rolloff_median', 'rolloff_mean', 'rolloff_var',\n",
        "                                    'flatness_min', 'flatness_max', 'flatness_median', 'flatness_mean', 'flatness_var']])\n",
        "labels = data['class'] \n",
        "folds = data['fold']\n",
        "\n",
        "base_x_train = rescaled_x[folds[(folds == 1) |(folds == 2) |(folds == 3) |(folds == 4) |(folds == 6)].index]\n",
        "base_y_train = labels[folds[(folds == 1) |(folds == 2) |(folds == 3) |(folds == 4) |(folds == 6)].index]\n",
        "base_y_train = np.array(base_y_train)\n",
        "base_x_test = rescaled_x[folds[(folds == 5) |(folds == 7) |(folds == 8) |(folds == 9) |(folds == 10)].index]\n",
        "base_y_test = labels[folds[(folds == 5) |(folds == 7) |(folds == 8) |(folds == 9) |(folds == 10)].index]\n",
        "base_y_test = np.array(base_y_test)\n",
        "\n",
        "base_x_test_5 = rescaled_x[folds[(folds == 5)].index]\n",
        "base_x_test_7 = rescaled_x[folds[(folds == 7)].index]\n",
        "base_x_test_8 = rescaled_x[folds[(folds == 8)].index]\n",
        "base_x_test_9 = rescaled_x[folds[(folds == 9)].index]\n",
        "base_x_test_10 = rescaled_x[folds[(folds == 10)].index]\n",
        "base_y_test_5 = labels[folds[(folds == 5)].index]\n",
        "base_y_test_7 = labels[folds[(folds == 7)].index]\n",
        "base_y_test_8 = labels[folds[(folds == 8)].index]\n",
        "base_y_test_9 = labels[folds[(folds == 9)].index]\n",
        "base_y_test_10 = labels[folds[(folds == 10)].index]\n"
      ]
    },
    {
      "cell_type": "code",
      "source": [
        "input_shape = base_x_train.shape[1:]\n",
        "base_model = create_base_model(input_shape)"
      ],
      "metadata": {
        "id": "gMXdgY26M7Ui"
      },
      "execution_count": null,
      "outputs": []
    },
    {
      "cell_type": "code",
      "execution_count": null,
      "metadata": {
        "id": "f9eaBGEEDxos"
      },
      "outputs": [],
      "source": [
        "#model compilation and setup\n",
        "base_model.compile(optimizer = 'adam',\n",
        "  loss = tf.keras.losses.SparseCategoricalCrossentropy(),\n",
        "  metrics = ['accuracy']\n",
        ")"
      ]
    },
    {
      "cell_type": "code",
      "source": [
        "base_model.summary()"
      ],
      "metadata": {
        "colab": {
          "base_uri": "https://localhost:8080/"
        },
        "id": "--3h2NLSNhik",
        "outputId": "d92569df-cd0a-4b8f-f58c-54e3c9fe55ec"
      },
      "execution_count": null,
      "outputs": [
        {
          "output_type": "stream",
          "name": "stdout",
          "text": [
            "Model: \"sequential_18\"\n",
            "_________________________________________________________________\n",
            " Layer (type)                Output Shape              Param #   \n",
            "=================================================================\n",
            " dense_45 (Dense)            (None, 1014)              38532     \n",
            "                                                                 \n",
            " dense_46 (Dense)            (None, 512)               519680    \n",
            "                                                                 \n",
            " dense_47 (Dense)            (None, 10)                5130      \n",
            "                                                                 \n",
            "=================================================================\n",
            "Total params: 563,342\n",
            "Trainable params: 563,342\n",
            "Non-trainable params: 0\n",
            "_________________________________________________________________\n"
          ]
        }
      ]
    },
    {
      "cell_type": "code",
      "execution_count": null,
      "metadata": {
        "id": "9yi8FmCREKsV"
      },
      "outputs": [],
      "source": [
        "#training\n",
        "EPOCHS = 30\n",
        "BATCH_SIZE = 32\n",
        "base_model.fit(base_x_train, \n",
        "               base_y_train, \n",
        "               epochs = EPOCHS, \n",
        "               batch_size=BATCH_SIZE)"
      ]
    },
    {
      "cell_type": "code",
      "execution_count": null,
      "metadata": {
        "id": "LqlcktAtEio4",
        "colab": {
          "base_uri": "https://localhost:8080/"
        },
        "outputId": "e7db9605-4d46-4f61-857f-3e76416d3ac7"
      },
      "outputs": [
        {
          "output_type": "stream",
          "name": "stdout",
          "text": [
            "133/133 [==============================] - 1s 4ms/step - loss: 2.7388 - accuracy: 0.4859\n",
            "30/30 [==============================] - 0s 4ms/step - loss: 2.7107 - accuracy: 0.4562\n",
            "27/27 [==============================] - 0s 5ms/step - loss: 2.5558 - accuracy: 0.5012\n",
            "26/26 [==============================] - 0s 5ms/step - loss: 3.1693 - accuracy: 0.4653\n",
            "26/26 [==============================] - 0s 4ms/step - loss: 3.1144 - accuracy: 0.5037\n",
            "27/27 [==============================] - 0s 4ms/step - loss: 2.1728 - accuracy: 0.5066\n",
            "Test Accuracy:0.48657960891723634\n",
            "Accuracy Std:0.021368930282713795\n"
          ]
        }
      ],
      "source": [
        "# Evaluating the model on the training and testing set\n",
        "test_loss, test_acc = base_model.evaluate(base_x_test, base_y_test, verbose = 1)\n",
        "\n",
        "test_loss_5, test_acc_5 = base_model.evaluate(base_x_test_5, base_y_test_5, verbose = 1)\n",
        "\n",
        "test_loss_7, test_acc_7 = base_model.evaluate(base_x_test_7, base_y_test_7, verbose = 1)\n",
        "\n",
        "test_loss_8, test_acc_8 = base_model.evaluate(base_x_test_8, base_y_test_8, verbose = 1)\n",
        "\n",
        "test_loss_9, test_acc_9 = base_model.evaluate(base_x_test_9, base_y_test_9, verbose = 1)\n",
        "\n",
        "test_loss_10, test_acc_10 = base_model.evaluate(base_x_test_10, base_y_test_10, verbose = 1)\n",
        "\n",
        "average_accuracy = sum([test_acc_5,test_acc_7,test_acc_8,test_acc_9,test_acc_10])/5\n",
        "accuracy_std = np.std(np.array([test_acc_5,test_acc_7,test_acc_8,test_acc_9,test_acc_10]))\n",
        "\n",
        "print(\"Test Accuracy:\" + str(average_accuracy))\n",
        "print(\"Accuracy Std:\" + str(accuracy_std))"
      ]
    },
    {
      "cell_type": "code",
      "source": [
        "y_pred = np.argmax(base_model.predict(base_x_test), axis=1)\n",
        "y_pred_2 = np.argsort(base_model.predict(base_x_test), axis=1)[:,-2]\n",
        "y_true = base_y_test\n",
        "\n",
        "test_acc = (sum(y_pred == y_true) + sum(y_pred_2 == y_true))/ len(y_true)\n",
        "print(f'Test set accuracy: {test_acc:.0%}')"
      ],
      "metadata": {
        "colab": {
          "base_uri": "https://localhost:8080/"
        },
        "id": "dCRNfeZIOGqe",
        "outputId": "fca64474-ae68-4fdc-a0e4-db9511637cb3"
      },
      "execution_count": null,
      "outputs": [
        {
          "output_type": "stream",
          "name": "stdout",
          "text": [
            "Test set accuracy: 71%\n"
          ]
        }
      ]
    },
    {
      "cell_type": "code",
      "execution_count": null,
      "metadata": {
        "id": "TSTwZAEsE0EE",
        "colab": {
          "base_uri": "https://localhost:8080/",
          "height": 569
        },
        "outputId": "e278fc0d-f425-4fc3-a97f-af60a588ed49"
      },
      "outputs": [
        {
          "output_type": "display_data",
          "data": {
            "text/plain": [
              "<Figure size 720x576 with 2 Axes>"
            ],
            "image/png": "[encoded data removed]"
          },
          "metadata": {
            "needs_background": "light"
          }
        }
      ],
      "source": [
        "import seaborn as sns\n",
        "categories = ['air_conditioner', 'car_horn', 'children_playing', 'dog_bark', 'drilling', 'engine_idling', 'gun_shot', 'jackhammer', 'siren', 'street_music']\n",
        "\n",
        "confusion_mtx = tf.math.confusion_matrix(y_true, y_pred)\n",
        "plt.figure(figsize=(10, 8))\n",
        "sns.heatmap(confusion_mtx,\n",
        "            xticklabels=categories,\n",
        "            yticklabels=categories,\n",
        "            annot=True, fmt='g')\n",
        "plt.xlabel('Prediction')\n",
        "plt.ylabel('Label')\n",
        "plt.show()"
      ]
    },
    {
      "cell_type": "markdown",
      "source": [
        "###Overall testing"
      ],
      "metadata": {
        "id": "QpDnIM0KVmdm"
      }
    },
    {
      "cell_type": "code",
      "source": [
        "result= []\n",
        "for BATCH_SIZE in [32,64,128]:  \n",
        "  for EPOCHS in [30,40,50,70]:\n",
        "    for i in range(3):\n",
        "      base_model = create_base_model(input_shape) \n",
        "      \n",
        "      base_model.compile(\n",
        "          loss='sparse_categorical_crossentropy', \n",
        "          metrics=['accuracy'], \n",
        "          optimizer='adam'\n",
        "      )\n",
        "      \n",
        "      history = base_model.fit(\n",
        "          base_x_train, \n",
        "          base_y_train, \n",
        "          epochs=EPOCHS,\n",
        "          batch_size = BATCH_SIZE\n",
        "      )\n",
        "\n",
        "      test_loss, test_acc = base_model.evaluate(base_x_test, base_y_test, verbose = 1)\n",
        "\n",
        "      test_loss_5, test_acc_5 = base_model.evaluate(base_x_test_5, base_y_test_5, verbose = 1)\n",
        "\n",
        "      test_loss_7, test_acc_7 = base_model.evaluate(base_x_test_7, base_y_test_7, verbose = 1)\n",
        "\n",
        "      test_loss_8, test_acc_8 = base_model.evaluate(base_x_test_8, base_y_test_8, verbose = 1)\n",
        "\n",
        "      test_loss_9, test_acc_9 = base_model.evaluate(base_x_test_9, base_y_test_9, verbose = 1)\n",
        "\n",
        "      test_loss_10, test_acc_10 = base_model.evaluate(base_x_test_10, base_y_test_10, verbose = 1)\n",
        "\n",
        "      average_accuracy = sum([test_acc_5,test_acc_7,test_acc_8,test_acc_9,test_acc_10])/5\n",
        "      accuracy_std = np.std(np.array([test_acc_5,test_acc_7,test_acc_8,test_acc_9,test_acc_10]))\n",
        "\n",
        "      result.append(\"Batch size:\\t\\t\"+ str(BATCH_SIZE) + \"\\t\\t Epoche:\\t\\t\"+ str(EPOCHS) + \"\\t\\t Train acc:\\t\\t\"+ str(history.history['accuracy'][-1])+ \"\\t\\t Test acc:\\t\\t\"+ str(average_accuracy) + \"\\t\\t Test accuracy Std:\\t\\t\" + str(accuracy_std))"
      ],
      "metadata": {
        "id": "CgbZh1ZlUzAP"
      },
      "execution_count": null,
      "outputs": []
    },
    {
      "cell_type": "code",
      "source": [
        "f=open('base_results.txt','w')\n",
        "for ele in result:\n",
        "    f.write(ele+'\\n')"
      ],
      "metadata": {
        "id": "02qN9ZhVVEwU"
      },
      "execution_count": null,
      "outputs": []
    },
    {
      "cell_type": "code",
      "source": [
        "f.close()\n",
        "from google.colab import files\n",
        "files.download('base_results.txt')"
      ],
      "metadata": {
        "colab": {
          "base_uri": "https://localhost:8080/",
          "height": 17
        },
        "id": "VISJYAwuVJxw",
        "outputId": "f04cd28a-950d-4b11-b209-e5b1a09e75dc"
      },
      "execution_count": null,
      "outputs": [
        {
          "output_type": "display_data",
          "data": {
            "text/plain": [
              "<IPython.core.display.Javascript object>"
            ],
            "application/javascript": [
              "\n",
              "    async function download(id, filename, size) {\n",
              "      if (!google.colab.kernel.accessAllowed) {\n",
              "        return;\n",
              "      }\n",
              "      const div = document.createElement('div');\n",
              "      const label = document.createElement('label');\n",
              "      label.textContent = `Downloading \"${filename}\": `;\n",
              "      div.appendChild(label);\n",
              "      const progress = document.createElement('progress');\n",
              "      progress.max = size;\n",
              "      div.appendChild(progress);\n",
              "      document.body.appendChild(div);\n",
              "\n",
              "      const buffers = [];\n",
              "      let downloaded = 0;\n",
              "\n",
              "      const channel = await google.colab.kernel.comms.open(id);\n",
              "      // Send a message to notify the kernel that we're ready.\n",
              "      channel.send({})\n",
              "\n",
              "      for await (const message of channel.messages) {\n",
              "        // Send a message to notify the kernel that we're ready.\n",
              "        channel.send({})\n",
              "        if (message.buffers) {\n",
              "          for (const buffer of message.buffers) {\n",
              "            buffers.push(buffer);\n",
              "            downloaded += buffer.byteLength;\n",
              "            progress.value = downloaded;\n",
              "          }\n",
              "        }\n",
              "      }\n",
              "      const blob = new Blob(buffers, {type: 'application/binary'});\n",
              "      const a = document.createElement('a');\n",
              "      a.href = window.URL.createObjectURL(blob);\n",
              "      a.download = filename;\n",
              "      div.appendChild(a);\n",
              "      a.click();\n",
              "      div.remove();\n",
              "    }\n",
              "  "
            ]
          },
          "metadata": {}
        },
        {
          "output_type": "display_data",
          "data": {
            "text/plain": [
              "<IPython.core.display.Javascript object>"
            ],
            "application/javascript": [
              "download(\"download_06e180aa-4650-4905-b787-6797a3431b01\", \"base_results.txt\", 4964)"
            ]
          },
          "metadata": {}
        }
      ]
    },
    {
      "cell_type": "markdown",
      "source": [
        "##Advanced statistics"
      ],
      "metadata": {
        "id": "bNxcHKO_TIax"
      }
    },
    {
      "cell_type": "code",
      "source": [
        "scaler = MinMaxScaler()\n",
        "rescaled_x = scaler.fit_transform(data.iloc[:,1:-2])\n",
        "labels = data['class'] \n",
        "folds = data['fold']\n",
        "\n",
        "adv_x_train = rescaled_x[folds[(folds == 1) |(folds == 2) |(folds == 3) |(folds == 4) |(folds == 6)].index]\n",
        "adv_y_train = labels[folds[(folds == 1) |(folds == 2) |(folds == 3) |(folds == 4) |(folds == 6)].index]\n",
        "adv_y_train = np.array(adv_y_train)\n",
        "adv_x_test = rescaled_x[folds[(folds == 5) |(folds == 7) |(folds == 8) |(folds == 9) |(folds == 10)].index]\n",
        "adv_y_test = labels[folds[(folds == 5) |(folds == 7) |(folds == 8) |(folds == 9) |(folds == 10)].index]\n",
        "adv_y_test = np.array(adv_y_test)\n",
        "\n",
        "adv_x_test_5 = rescaled_x[folds[(folds == 5)].index]\n",
        "adv_x_test_7 = rescaled_x[folds[(folds == 7)].index]\n",
        "adv_x_test_8 = rescaled_x[folds[(folds == 8)].index]\n",
        "adv_x_test_9 = rescaled_x[folds[(folds == 9)].index]\n",
        "adv_x_test_10 = rescaled_x[folds[(folds == 10)].index]\n",
        "adv_y_test_5 = labels[folds[(folds == 5)].index]\n",
        "adv_y_test_7 = labels[folds[(folds == 7)].index]\n",
        "adv_y_test_8 = labels[folds[(folds == 8)].index]\n",
        "adv_y_test_9 = labels[folds[(folds == 9)].index]\n",
        "adv_y_test_10 = labels[folds[(folds == 10)].index]"
      ],
      "metadata": {
        "id": "dVsxtPzjTapK"
      },
      "execution_count": 14,
      "outputs": []
    },
    {
      "cell_type": "code",
      "source": [
        "input_shape = adv_x_train.shape[1:]\n",
        "adv_model = create_adv1_model(input_shape)"
      ],
      "metadata": {
        "id": "TSOf7w2FU_Fc"
      },
      "execution_count": 26,
      "outputs": []
    },
    {
      "cell_type": "code",
      "source": [
        "#model compilation and setup\n",
        "adv_model.compile(optimizer = 'adam',\n",
        "  loss = tf.keras.losses.SparseCategoricalCrossentropy(),\n",
        "  metrics = ['accuracy']\n",
        ")"
      ],
      "metadata": {
        "id": "8t34ZUOEVDGf"
      },
      "execution_count": null,
      "outputs": []
    },
    {
      "cell_type": "code",
      "source": [
        "adv_model.summary()"
      ],
      "metadata": {
        "id": "rAJMmI9WVLyk",
        "colab": {
          "base_uri": "https://localhost:8080/"
        },
        "outputId": "5d7613d4-d089-433c-86ff-02b02143711f"
      },
      "execution_count": 27,
      "outputs": [
        {
          "output_type": "stream",
          "name": "stdout",
          "text": [
            "Model: \"sequential\"\n",
            "_________________________________________________________________\n",
            " Layer (type)                Output Shape              Param #   \n",
            "=================================================================\n",
            " dense (Dense)               (None, 1024)              380928    \n",
            "                                                                 \n",
            " dense_1 (Dense)             (None, 512)               524800    \n",
            "                                                                 \n",
            " dense_2 (Dense)             (None, 10)                5130      \n",
            "                                                                 \n",
            "=================================================================\n",
            "Total params: 910,858\n",
            "Trainable params: 910,858\n",
            "Non-trainable params: 0\n",
            "_________________________________________________________________\n"
          ]
        }
      ]
    },
    {
      "cell_type": "code",
      "source": [
        "#training\n",
        "EPOCHS = 30\n",
        "BATCH_SIZE = 32\n",
        "adv_model.fit(adv_x_train, \n",
        "               adv_y_train, \n",
        "               epochs = EPOCHS, \n",
        "               batch_size=BATCH_SIZE)"
      ],
      "metadata": {
        "id": "-pz9tc9oVOOR"
      },
      "execution_count": null,
      "outputs": []
    },
    {
      "cell_type": "code",
      "source": [
        "# Evaluating the model on the training and testing set\n",
        "test_loss, test_acc = adv_model.evaluate(adv_x_test, adv_y_test, verbose = 1)\n",
        "\n",
        "test_loss_5, test_acc_5 = adv_model.evaluate(adv_x_test_5, adv_y_test_5, verbose = 1)\n",
        "\n",
        "test_loss_7, test_acc_7 = adv_model.evaluate(adv_x_test_7, adv_y_test_7, verbose = 1)\n",
        "\n",
        "test_loss_8, test_acc_8 = adv_model.evaluate(adv_x_test_8, adv_y_test_8, verbose = 1)\n",
        "\n",
        "test_loss_9, test_acc_9 = adv_model.evaluate(adv_x_test_9, adv_y_test_9, verbose = 1)\n",
        "\n",
        "test_loss_10, test_acc_10 = adv_model.evaluate(adv_x_test_10, adv_y_test_10, verbose = 1)\n",
        "\n",
        "average_accuracy = sum([test_acc_5,test_acc_7,test_acc_8,test_acc_9,test_acc_10])/5\n",
        "accuracy_std = np.std(np.array([test_acc_5,test_acc_7,test_acc_8,test_acc_9,test_acc_10]))\n",
        "\n",
        "print(\"Test Accuracy:\" + str(average_accuracy))\n",
        "print(\"Accuracy Std:\" + str(accuracy_std))"
      ],
      "metadata": {
        "id": "oFiLNEPGVR2e"
      },
      "execution_count": null,
      "outputs": []
    },
    {
      "cell_type": "code",
      "source": [
        "y_pred = np.argmax(adv_model.predict(adv_x_test), axis=1)\n",
        "y_pred_2 = np.argsort(adv_model.predict(adv_x_test), axis=1)[:,-2]\n",
        "y_true = adv_y_test\n",
        "\n",
        "test_acc = (sum(y_pred == y_true) + sum(y_pred_2 == y_true))/ len(y_true)\n",
        "print(f'Test set accuracy: {test_acc:.0%}')"
      ],
      "metadata": {
        "id": "Nesv1WBGVXW5"
      },
      "execution_count": null,
      "outputs": []
    },
    {
      "cell_type": "code",
      "source": [
        "import seaborn as sns\n",
        "categories = ['air_conditioner', 'car_horn', 'children_playing', 'dog_bark', 'drilling', 'engine_idling', 'gun_shot', 'jackhammer', 'siren', 'street_music']\n",
        "\n",
        "confusion_mtx = tf.math.confusion_matrix(y_true, y_pred)\n",
        "plt.figure(figsize=(10, 8))\n",
        "sns.heatmap(confusion_mtx,\n",
        "            xticklabels=categories,\n",
        "            yticklabels=categories,\n",
        "            annot=True, fmt='g')\n",
        "plt.xlabel('Prediction')\n",
        "plt.ylabel('Label')\n",
        "plt.show()"
      ],
      "metadata": {
        "id": "RJVDy5SCVdOo"
      },
      "execution_count": null,
      "outputs": []
    },
    {
      "cell_type": "markdown",
      "source": [
        "###Overall testing"
      ],
      "metadata": {
        "id": "CLCnrW5YV1D3"
      }
    },
    {
      "cell_type": "code",
      "source": [
        "result= []\n",
        "for BATCH_SIZE in [32,64,128]:  \n",
        "  for EPOCHS in [30,40,50,70]:\n",
        "    for i in range(3):\n",
        "      adv_model = create_adv1_model(input_shape) \n",
        "      \n",
        "      adv_model.compile(\n",
        "          loss='sparse_categorical_crossentropy', \n",
        "          metrics=['accuracy'], \n",
        "          optimizer='adam'\n",
        "      )\n",
        "      \n",
        "      history = adv_model.fit(\n",
        "          base_x_train, \n",
        "          base_y_train, \n",
        "          epochs=EPOCHS,\n",
        "          batch_size = BATCH_SIZE\n",
        "      )\n",
        "\n",
        "      test_loss, test_acc = adv_model.evaluate(adv_x_test, adv_y_test, verbose = 1)\n",
        "\n",
        "      test_loss_5, test_acc_5 = adv_model.evaluate(adv_x_test_5, adv_y_test_5, verbose = 1)\n",
        "\n",
        "      test_loss_7, test_acc_7 = adv_model.evaluate(adv_x_test_7, adv_y_test_7, verbose = 1)\n",
        "\n",
        "      test_loss_8, test_acc_8 = adv_model.evaluate(adv_x_test_8, adv_y_test_8, verbose = 1)\n",
        "\n",
        "      test_loss_9, test_acc_9 = adv_model.evaluate(adv_x_test_9, adv_y_test_9, verbose = 1)\n",
        "\n",
        "      test_loss_10, test_acc_10 = adv_model.evaluate(adv_x_test_10, adv_y_test_10, verbose = 1)\n",
        "\n",
        "      average_accuracy = sum([test_acc_5,test_acc_7,test_acc_8,test_acc_9,test_acc_10])/5\n",
        "      accuracy_std = np.std(np.array([test_acc_5,test_acc_7,test_acc_8,test_acc_9,test_acc_10]))\n",
        "\n",
        "      result.append(\"Batch size:\\t\\t\"+ str(BATCH_SIZE) + \"\\t\\t Epoche:\\t\\t\"+ str(EPOCHS) + \"\\t\\t Train acc:\\t\\t\"+ str(history.history['accuracy'][-1])+ \"\\t\\t Test acc:\\t\\t\"+ str(average_accuracy) + \"\\t\\t Test accuracy Std:\\t\\t\" + str(accuracy_std))"
      ],
      "metadata": {
        "id": "r9A8krGiV1D3"
      },
      "execution_count": null,
      "outputs": []
    },
    {
      "cell_type": "code",
      "source": [
        "f=open('base_results.txt','w')\n",
        "for ele in result:\n",
        "    f.write(ele+'\\n')"
      ],
      "metadata": {
        "id": "4xe9QmUKV1D4"
      },
      "execution_count": null,
      "outputs": []
    },
    {
      "cell_type": "code",
      "source": [
        "f.close()\n",
        "from google.colab import files\n",
        "files.download('base_results.txt')"
      ],
      "metadata": {
        "colab": {
          "base_uri": "https://localhost:8080/",
          "height": 17
        },
        "outputId": "8f0437c4-ef47-4b62-9123-538fdd04421c",
        "id": "eK7jhY6wV1D4"
      },
      "execution_count": null,
      "outputs": [
        {
          "output_type": "display_data",
          "data": {
            "text/plain": [
              "<IPython.core.display.Javascript object>"
            ],
            "application/javascript": [
              "\n",
              "    async function download(id, filename, size) {\n",
              "      if (!google.colab.kernel.accessAllowed) {\n",
              "        return;\n",
              "      }\n",
              "      const div = document.createElement('div');\n",
              "      const label = document.createElement('label');\n",
              "      label.textContent = `Downloading \"${filename}\": `;\n",
              "      div.appendChild(label);\n",
              "      const progress = document.createElement('progress');\n",
              "      progress.max = size;\n",
              "      div.appendChild(progress);\n",
              "      document.body.appendChild(div);\n",
              "\n",
              "      const buffers = [];\n",
              "      let downloaded = 0;\n",
              "\n",
              "      const channel = await google.colab.kernel.comms.open(id);\n",
              "      // Send a message to notify the kernel that we're ready.\n",
              "      channel.send({})\n",
              "\n",
              "      for await (const message of channel.messages) {\n",
              "        // Send a message to notify the kernel that we're ready.\n",
              "        channel.send({})\n",
              "        if (message.buffers) {\n",
              "          for (const buffer of message.buffers) {\n",
              "            buffers.push(buffer);\n",
              "            downloaded += buffer.byteLength;\n",
              "            progress.value = downloaded;\n",
              "          }\n",
              "        }\n",
              "      }\n",
              "      const blob = new Blob(buffers, {type: 'application/binary'});\n",
              "      const a = document.createElement('a');\n",
              "      a.href = window.URL.createObjectURL(blob);\n",
              "      a.download = filename;\n",
              "      div.appendChild(a);\n",
              "      a.click();\n",
              "      div.remove();\n",
              "    }\n",
              "  "
            ]
          },
          "metadata": {}
        },
        {
          "output_type": "display_data",
          "data": {
            "text/plain": [
              "<IPython.core.display.Javascript object>"
            ],
            "application/javascript": [
              "download(\"download_1d8b1da9-c362-4e41-8609-e44d2d3b9e10\", \"base_results.txt\", 4969)"
            ]
          },
          "metadata": {}
        }
      ]
    },
    {
      "cell_type": "markdown",
      "source": [
        "##MLP on PCA features"
      ],
      "metadata": {
        "id": "2oxR43BjO1wm"
      }
    },
    {
      "cell_type": "code",
      "source": [
        "from sklearn.preprocessing import MinMaxScaler\n",
        "scaler = MinMaxScaler()\n",
        "rescaled_x = scaler.fit_transform(data.iloc[:,1:-2])\n",
        "labels = data['class'] \n",
        "folds = data['fold']"
      ],
      "metadata": {
        "id": "eHJLgHW9Ou_x"
      },
      "execution_count": null,
      "outputs": []
    },
    {
      "cell_type": "code",
      "source": [
        "from sklearn.decomposition import PCA\n",
        "pca = PCA(n_components=0.98)\n",
        "statistics_pca = pca.fit_transform(rescaled_x)\n",
        "\n",
        "#print(pca.explained_variance_ratio_)\n",
        "#print(statistics_pca)\n",
        "#print(statistics_pca.shape)"
      ],
      "metadata": {
        "id": "4_CAa1r4O8xg"
      },
      "execution_count": null,
      "outputs": []
    },
    {
      "cell_type": "code",
      "source": [
        "pca_x_train = statistics_pca[folds[(folds == 1) |(folds == 2) |(folds == 3) |(folds == 4) |(folds == 6)].index]\n",
        "pca_y_train = labels[folds[(folds == 1) |(folds == 2) |(folds == 3) |(folds == 4) |(folds == 6)].index]\n",
        "pca_y_train = np.array(pca_y_train)"
      ],
      "metadata": {
        "id": "BNPrrMirPHSj"
      },
      "execution_count": null,
      "outputs": []
    },
    {
      "cell_type": "code",
      "source": [
        "pca_x_test = statistics_pca[folds[(folds == 5) |(folds == 7) |(folds == 8) |(folds == 9) |(folds == 10)].index]\n",
        "pca_y_test = labels[folds[(folds == 5) |(folds == 7) |(folds == 8) |(folds == 9) |(folds == 10)].index]\n",
        "pca_y_test = np.array(pca_y_test)\n",
        "\n",
        "pca_x_test_5 = statistics_pca[folds[(folds == 5)].index] \n",
        "pca_y_test_5 = labels[folds[(folds == 5)].index]\n",
        "pca_y_test_5 = np.array(pca_y_test_5)\n",
        "\n",
        "pca_x_test_7 = statistics_pca[folds[(folds == 7)].index] \n",
        "pca_y_test_7 = labels[folds[(folds == 7)].index]\n",
        "pca_y_test_7 = np.array(pca_y_test_7)\n",
        "\n",
        "pca_x_test_8 = statistics_pca[folds[(folds == 8)].index] \n",
        "pca_y_test_8 = labels[folds[(folds == 8)].index]\n",
        "pca_y_test_8 = np.array(pca_y_test_8)\n",
        "\n",
        "pca_x_test_9 = statistics_pca[folds[(folds == 9)].index] \n",
        "pca_y_test_9 = labels[folds[(folds == 9)].index]\n",
        "pca_y_test_9 = np.array(pca_y_test_9)\n",
        "\n",
        "pca_x_test_10 = statistics_pca[folds[(folds == 10)].index] \n",
        "pca_y_test_10 = labels[folds[(folds == 10)].index]\n",
        "pca_y_test_10 = np.array(pca_y_test_10)"
      ],
      "metadata": {
        "id": "xTzwn00BPJYr"
      },
      "execution_count": null,
      "outputs": []
    },
    {
      "cell_type": "code",
      "source": [
        "input_shape = pca_x_train.shape[1:]\n",
        "print(input_shape)"
      ],
      "metadata": {
        "id": "d5XBomvJPRT2",
        "colab": {
          "base_uri": "https://localhost:8080/"
        },
        "outputId": "8c204fe5-94eb-4b35-ea3b-1481f98bb4df"
      },
      "execution_count": null,
      "outputs": [
        {
          "output_type": "stream",
          "name": "stdout",
          "text": [
            "(97,)\n"
          ]
        }
      ]
    },
    {
      "cell_type": "code",
      "source": [
        "pca_model = create_pca_model(input_shape)"
      ],
      "metadata": {
        "id": "wdSIrWmlPc8d"
      },
      "execution_count": null,
      "outputs": []
    },
    {
      "cell_type": "code",
      "source": [
        "pca_model.compile(optimizer = 'adam',\n",
        "  loss = tf.keras.losses.SparseCategoricalCrossentropy(),\n",
        "  metrics = ['accuracy']\n",
        ")"
      ],
      "metadata": {
        "id": "j8aOCmA-Pek-"
      },
      "execution_count": null,
      "outputs": []
    },
    {
      "cell_type": "code",
      "source": [
        "pca_model.summary()"
      ],
      "metadata": {
        "id": "FtTFzB9sPgLh",
        "colab": {
          "base_uri": "https://localhost:8080/"
        },
        "outputId": "a4071468-ccb0-4682-ae7d-482bec9d942c"
      },
      "execution_count": null,
      "outputs": [
        {
          "output_type": "stream",
          "name": "stdout",
          "text": [
            "Model: \"sequential\"\n",
            "_________________________________________________________________\n",
            " Layer (type)                Output Shape              Param #   \n",
            "=================================================================\n",
            " dense (Dense)               (None, 64)                6272      \n",
            "                                                                 \n",
            " dense_1 (Dense)             (None, 32)                2080      \n",
            "                                                                 \n",
            " dense_2 (Dense)             (None, 10)                330       \n",
            "                                                                 \n",
            "=================================================================\n",
            "Total params: 8,682\n",
            "Trainable params: 8,682\n",
            "Non-trainable params: 0\n",
            "_________________________________________________________________\n"
          ]
        }
      ]
    },
    {
      "cell_type": "code",
      "source": [
        "#training\n",
        "EPOCHS = 30\n",
        "BATCH_SIZE = 32\n",
        "pca_model.fit(pca_x_train, pca_y_train, epochs=EPOCHS, batch_size=BATCH_SIZE)"
      ],
      "metadata": {
        "id": "Bjn9pVS-PgqG"
      },
      "execution_count": null,
      "outputs": []
    },
    {
      "cell_type": "code",
      "source": [
        "#testing\n",
        "test_loss, test_acc = pca_model.evaluate(pca_x_test, pca_y_test, verbose = 1)\n",
        "test_loss_5, test_acc_5 = pca_model.evaluate(pca_x_test_5, pca_y_test_5, verbose = 1)\n",
        "\n",
        "test_loss_7, test_acc_7 = pca_model.evaluate(pca_x_test_7, pca_y_test_7, verbose = 1)\n",
        "\n",
        "test_loss_8, test_acc_8 = pca_model.evaluate(pca_x_test_8, pca_y_test_8, verbose = 1)\n",
        "\n",
        "test_loss_9, test_acc_9 = pca_model.evaluate(pca_x_test_9, pca_y_test_9, verbose = 1)\n",
        "\n",
        "test_loss_10, test_acc_10 = pca_model.evaluate(pca_x_test_10, pca_y_test_10, verbose = 1)\n",
        "\n",
        "average_accuracy = sum([test_acc_5,test_acc_7,test_acc_8,test_acc_9,test_acc_10])/5\n",
        "accuracy_std = np.std(np.array([test_acc_5,test_acc_7,test_acc_8,test_acc_9,test_acc_10]))\n",
        "\n",
        "print(\"Test Accuracy:\" + str(average_accuracy))\n",
        "print(\"Accuracy Std:\" + str(accuracy_std))"
      ],
      "metadata": {
        "id": "bFxuhoFePjyU",
        "colab": {
          "base_uri": "https://localhost:8080/"
        },
        "outputId": "e3a6e749-a744-46e7-fefe-4344556a5676"
      },
      "execution_count": null,
      "outputs": [
        {
          "output_type": "stream",
          "name": "stdout",
          "text": [
            "133/133 [==============================] - 1s 6ms/step - loss: 2.0320 - accuracy: 0.5537\n",
            "30/30 [==============================] - 0s 5ms/step - loss: 1.9479 - accuracy: 0.5876\n",
            "27/27 [==============================] - 0s 5ms/step - loss: 1.9242 - accuracy: 0.5024\n",
            "26/26 [==============================] - 0s 5ms/step - loss: 1.9748 - accuracy: 0.5732\n",
            "26/26 [==============================] - 0s 5ms/step - loss: 2.5359 - accuracy: 0.5404\n",
            "27/27 [==============================] - 0s 5ms/step - loss: 1.7976 - accuracy: 0.5615\n",
            "Test Accuracy:0.5530329823493958\n",
            "Accuracy Std:0.029657698180613073\n"
          ]
        }
      ]
    },
    {
      "cell_type": "code",
      "source": [
        "y_pred = np.argmax(pca_model.predict(pca_x_test), axis=1)\n",
        "y_pred_2 = np.argsort(pca_model.predict(pca_x_test), axis=1)[:,-2]\n",
        "y_true = pca_y_test\n",
        "\n",
        "test_acc = (sum(y_pred == y_true) + sum(y_pred_2 == y_true))/ len(y_true)\n",
        "print(f'Test set accuracy: {test_acc:.0%}')"
      ],
      "metadata": {
        "id": "3KY2HJcwPljH",
        "colab": {
          "base_uri": "https://localhost:8080/"
        },
        "outputId": "8f3b9472-adbf-41e9-c034-8e54f26fc375"
      },
      "execution_count": null,
      "outputs": [
        {
          "output_type": "stream",
          "name": "stdout",
          "text": [
            "Test set accuracy: 73%\n"
          ]
        }
      ]
    },
    {
      "cell_type": "code",
      "source": [
        "import seaborn as sns\n",
        "categories = ['air_conditioner', 'car_horn', 'children_playing', 'dog_bark', 'drilling', 'engine_idling', 'gun_shot', 'jackhammer', 'siren', 'street_music']\n",
        "\n",
        "confusion_mtx = tf.math.confusion_matrix(y_true, y_pred)\n",
        "plt.figure(figsize=(10, 8))\n",
        "sns.heatmap(confusion_mtx,\n",
        "            xticklabels=categories,\n",
        "            yticklabels=categories,\n",
        "            annot=True, fmt='g')\n",
        "plt.xlabel('Prediction')\n",
        "plt.ylabel('Label')\n",
        "plt.show()"
      ],
      "metadata": {
        "id": "RljZJTRYPnBE",
        "colab": {
          "base_uri": "https://localhost:8080/",
          "height": 570
        },
        "outputId": "a0b344a8-f34e-4178-949d-da915ca09968"
      },
      "execution_count": null,
      "outputs": [
        {
          "output_type": "display_data",
          "data": {
            "text/plain": [
              "<Figure size 720x576 with 2 Axes>"
            ],
            "image/png": "[encoded data removed]"
          },
          "metadata": {
            "needs_background": "light"
          }
        }
      ]
    },
    {
      "cell_type": "markdown",
      "source": [
        "###Overall testing"
      ],
      "metadata": {
        "id": "ZPAAyofcU8zP"
      }
    },
    {
      "cell_type": "code",
      "source": [
        "result= []\n",
        "for pca_variance in [0.90,0.95,0.98,0.99]:\n",
        "  scaler = MinMaxScaler()\n",
        "  rescaled_x = scaler.fit_transform(data.iloc[:,1:-2])\n",
        "  labels = data['class'] \n",
        "  folds = data['fold']\n",
        "\n",
        "  pca = PCA(n_components=pca_variance)\n",
        "  statistics_pca = pca.fit_transform(rescaled_x)\n",
        "\n",
        "  pca_x_train = statistics_pca[folds[(folds == 1) |(folds == 2) |(folds == 3) |(folds == 4) |(folds == 6)].index]\n",
        "  pca_y_train = labels[folds[(folds == 1) |(folds == 2) |(folds == 3) |(folds == 4) |(folds == 6)].index]\n",
        "  pca_y_train = np.array(pca_y_train)\n",
        "\n",
        "  pca_x_test = statistics_pca[folds[(folds == 5) |(folds == 7) |(folds == 8) |(folds == 9) |(folds == 10)].index]\n",
        "  pca_y_test = labels[folds[(folds == 5) |(folds == 7) |(folds == 8) |(folds == 9) |(folds == 10)].index]\n",
        "  pca_y_test = np.array(pca_y_test)\n",
        "\n",
        "  pca_x_test_5 = statistics_pca[folds[(folds == 5)].index] \n",
        "  pca_y_test_5 = labels[folds[(folds == 5)].index]\n",
        "  pca_y_test_5 = np.array(pca_y_test_5)\n",
        "\n",
        "  pca_x_test_7 = statistics_pca[folds[(folds == 7)].index] \n",
        "  pca_y_test_7 = labels[folds[(folds == 7)].index]\n",
        "  pca_y_test_7 = np.array(pca_y_test_7)\n",
        "\n",
        "  pca_x_test_8 = statistics_pca[folds[(folds == 8)].index] \n",
        "  pca_y_test_8 = labels[folds[(folds == 8)].index]\n",
        "  pca_y_test_8 = np.array(pca_y_test_8)\n",
        "\n",
        "  pca_x_test_9 = statistics_pca[folds[(folds == 9)].index] \n",
        "  pca_y_test_9 = labels[folds[(folds == 9)].index]\n",
        "  pca_y_test_9 = np.array(pca_y_test_9)\n",
        "\n",
        "  pca_x_test_10 = statistics_pca[folds[(folds == 10)].index] \n",
        "  pca_y_test_10 = labels[folds[(folds == 10)].index]\n",
        "  pca_y_test_10 = np.array(pca_y_test_10)\n",
        "\n",
        "  input_shape = pca_x_train.shape[1:]\n",
        "\n",
        "  for BATCH_SIZE in [32,64,128]:\n",
        "    for EPOCHS in [20,30,50]:\n",
        "      for i in range(3):\n",
        "         pca_model = create_pca_model(input_shape) \n",
        "\n",
        "         pca_model.compile(\n",
        "              loss='sparse_categorical_crossentropy', \n",
        "              metrics=['accuracy'], \n",
        "              optimizer='adam'\n",
        "         )\n",
        "\n",
        "         history = pca_model.fit(\n",
        "            pca_x_train, \n",
        "            pca_y_train, \n",
        "             epochs=EPOCHS,\n",
        "            batch_size = BATCH_SIZE\n",
        "         )\n",
        "\n",
        "         test_loss, test_acc = pca_model.evaluate(pca_x_test, pca_y_test, verbose = 1)\n",
        "\n",
        "         test_loss_5, test_acc_5 = pca_model.evaluate(pca_x_test_5, pca_y_test_5, verbose = 1)\n",
        "\n",
        "         test_loss_7, test_acc_7 = pca_model.evaluate(pca_x_test_7, pca_y_test_7, verbose = 1)\n",
        "\n",
        "         test_loss_8, test_acc_8 = pca_model.evaluate(pca_x_test_8, pca_y_test_8, verbose = 1)\n",
        "\n",
        "         test_loss_9, test_acc_9 = pca_model.evaluate(pca_x_test_9, pca_y_test_9, verbose = 1)\n",
        "\n",
        "         test_loss_10, test_acc_10 = pca_model.evaluate(pca_x_test_10, pca_y_test_10, verbose = 1)\n",
        "\n",
        "         average_accuracy = sum([test_acc_5,test_acc_7,test_acc_8,test_acc_9,test_acc_10])/5\n",
        "         accuracy_std = np.std(np.array([test_acc_5,test_acc_7,test_acc_8,test_acc_9,test_acc_10]))\n",
        "\n",
        "         result.append(\"Pca variance:                \" + str(pca_variance)+ \"               Batch size:                  \"+ str(BATCH_SIZE) + \"              Epoche:                     \"+ str(EPOCHS) + \"            Train acc:                \"+ str(history.history['accuracy'][-1])+ \"             Test acc:                 \"+ str(average_accuracy) + \"            Test accuracy Std:                  \" + str(accuracy_std))"
      ],
      "metadata": {
        "id": "I1pmun8JU-gk"
      },
      "execution_count": null,
      "outputs": []
    },
    {
      "cell_type": "code",
      "source": [
        "f=open('pca_results.txt','w')\n",
        "for ele in result:\n",
        "    f.write(ele+'\\n')\n",
        "\n",
        "f.close()"
      ],
      "metadata": {
        "id": "kzHjaMHWVDlV"
      },
      "execution_count": null,
      "outputs": []
    },
    {
      "cell_type": "code",
      "source": [
        "from google.colab import files\n",
        "files.download('pca_results.txt')"
      ],
      "metadata": {
        "colab": {
          "base_uri": "https://localhost:8080/",
          "height": 17
        },
        "id": "1FhR6pUpVHN2",
        "outputId": "c1a13763-e913-44c0-dade-a999a954f90c"
      },
      "execution_count": null,
      "outputs": [
        {
          "output_type": "display_data",
          "data": {
            "text/plain": [
              "<IPython.core.display.Javascript object>"
            ],
            "application/javascript": [
              "\n",
              "    async function download(id, filename, size) {\n",
              "      if (!google.colab.kernel.accessAllowed) {\n",
              "        return;\n",
              "      }\n",
              "      const div = document.createElement('div');\n",
              "      const label = document.createElement('label');\n",
              "      label.textContent = `Downloading \"${filename}\": `;\n",
              "      div.appendChild(label);\n",
              "      const progress = document.createElement('progress');\n",
              "      progress.max = size;\n",
              "      div.appendChild(progress);\n",
              "      document.body.appendChild(div);\n",
              "\n",
              "      const buffers = [];\n",
              "      let downloaded = 0;\n",
              "\n",
              "      const channel = await google.colab.kernel.comms.open(id);\n",
              "      // Send a message to notify the kernel that we're ready.\n",
              "      channel.send({})\n",
              "\n",
              "      for await (const message of channel.messages) {\n",
              "        // Send a message to notify the kernel that we're ready.\n",
              "        channel.send({})\n",
              "        if (message.buffers) {\n",
              "          for (const buffer of message.buffers) {\n",
              "            buffers.push(buffer);\n",
              "            downloaded += buffer.byteLength;\n",
              "            progress.value = downloaded;\n",
              "          }\n",
              "        }\n",
              "      }\n",
              "      const blob = new Blob(buffers, {type: 'application/binary'});\n",
              "      const a = document.createElement('a');\n",
              "      a.href = window.URL.createObjectURL(blob);\n",
              "      a.download = filename;\n",
              "      div.appendChild(a);\n",
              "      a.click();\n",
              "      div.remove();\n",
              "    }\n",
              "  "
            ]
          },
          "metadata": {}
        },
        {
          "output_type": "display_data",
          "data": {
            "text/plain": [
              "<IPython.core.display.Javascript object>"
            ],
            "application/javascript": [
              "download(\"download_124f1087-8673-4bbc-ad44-b209ef86f367\", \"pca_results.txt\", 32892)"
            ]
          },
          "metadata": {}
        }
      ]
    },
    {
      "cell_type": "markdown",
      "metadata": {
        "id": "404IYIVJtdMv"
      },
      "source": [
        "##CNN melspectrogram"
      ]
    },
    {
      "cell_type": "code",
      "source": [
        "file_path = \"/content/UrbanSoundPreprocessed/fold1/101415-3-0-8.wav\"\n",
        "sound_file, sampling_rate = librosa.load(file_path, sr = None)\n",
        "S = librosa.feature.melspectrogram(y=sound_file, sr=sampling_rate, win_length=2048, hop_length=1024)"
      ],
      "metadata": {
        "id": "aeKtjDIcYT_Q"
      },
      "execution_count": null,
      "outputs": []
    },
    {
      "cell_type": "code",
      "source": [
        "S.shape"
      ],
      "metadata": {
        "colab": {
          "base_uri": "https://localhost:8080/"
        },
        "id": "389lofcIYkIW",
        "outputId": "7c74d5de-2c0b-43e4-d899-1e7ea019fe94"
      },
      "execution_count": null,
      "outputs": [
        {
          "output_type": "execute_result",
          "data": {
            "text/plain": [
              "(128, 174)"
            ]
          },
          "metadata": {},
          "execution_count": 9
        }
      ]
    },
    {
      "cell_type": "code",
      "execution_count": null,
      "metadata": {
        "id": "Fkd_PGFEm3t6"
      },
      "outputs": [],
      "source": [
        "x_train = []\n",
        "x_test = []\n",
        "y_train = []\n",
        "y_test = []\n",
        "\n",
        "x_test_5 = []\n",
        "x_test_7 = []\n",
        "x_test_8 = []\n",
        "x_test_9 = []\n",
        "x_test_10 = []\n",
        "\n",
        "y_test_5 = []\n",
        "y_test_7 = []\n",
        "y_test_8 = []\n",
        "y_test_9 = []\n",
        "y_test_10 = []\n",
        "\n",
        "\n",
        "for dir in os.listdir(\"/content/UrbanSoundPreprocessed/\"):\n",
        "  if(dir!='.DS_Store'):\n",
        "    for file in os.listdir(\"/content/UrbanSoundPreprocessed/\"+dir+\"/\"):\n",
        "      if(file!='.DS_Store'):\n",
        "        file_path = \"./UrbanSoundPreprocessed/\"+dir+\"/\"+file\n",
        "        sound_file, sampling_rate = librosa.load(file_path, sr = None)\n",
        "        category = float(file.split('-')[1])\n",
        "        \n",
        "        S = librosa.feature.melspectrogram(y=sound_file, sr=sampling_rate, win_length=2048, hop_length=1024)\n",
        "        \n",
        "        if ((dir == 'fold1') | (dir == 'fold2') | (dir == 'fold3') | (dir == 'fold4') | (dir == 'fold6')):\n",
        "          x_train.append(S)\n",
        "          y_train.append(category)\n",
        "          \n",
        "        else:\n",
        "          x_test.append(S)\n",
        "          y_test.append(category)\n",
        "\n",
        "          if (dir == 'fold5'):\n",
        "            x_test_5.append(S)\n",
        "            y_test_5.append(category)\n",
        "          \n",
        "          if (dir == 'fold7'):\n",
        "            x_test_7.append(S)\n",
        "            y_test_7.append(category)\n",
        "\n",
        "          if (dir == 'fold8'):\n",
        "            x_test_8.append(S)\n",
        "            y_test_8.append(category)\n",
        "          \n",
        "          if (dir == 'fold9'):\n",
        "            x_test_9.append(S)\n",
        "            y_test_9.append(category)\n",
        "          \n",
        "          if (dir == 'fold10'):\n",
        "            x_test_10.append(S)\n",
        "            y_test_10.append(category)"
      ]
    },
    {
      "cell_type": "code",
      "execution_count": null,
      "metadata": {
        "id": "dT41TlGwqY70"
      },
      "outputs": [],
      "source": [
        "mel_x_train = np.array(x_train)\n",
        "mel_x_train = mel_x_train.reshape(mel_x_train.shape[0], len(mel_x_train[0]), len(mel_x_train[0][0]),1)\n",
        "\n",
        "mel_y_train = np.array(y_train)\n",
        "\n",
        "mel_x_test = np.array(x_test)\n",
        "mel_x_test_5 = np.array(x_test_5)\n",
        "mel_x_test_7 = np.array(x_test_7)\n",
        "mel_x_test_8 = np.array(x_test_8)\n",
        "mel_x_test_9 = np.array(x_test_9)\n",
        "mel_x_test_10 = np.array(x_test_10)\n",
        "\n",
        "mel_y_test_5 = np.array(y_test_5)\n",
        "mel_y_test_7 = np.array(y_test_7)\n",
        "mel_y_test_8 = np.array(y_test_8)\n",
        "mel_y_test_9 = np.array(y_test_9)\n",
        "mel_y_test_10 = np.array(y_test_10)\n",
        "\n",
        "mel_y_test = np.array(y_test)"
      ]
    },
    {
      "cell_type": "code",
      "execution_count": null,
      "metadata": {
        "id": "AIKH4lvclIXq"
      },
      "outputs": [],
      "source": [
        "input_shape = mel_x_train.shape[1:]"
      ]
    },
    {
      "cell_type": "code",
      "source": [
        "mel_model = create_mel_model(input_shape)"
      ],
      "metadata": {
        "id": "Nk6LSTo7wJtI"
      },
      "execution_count": null,
      "outputs": []
    },
    {
      "cell_type": "code",
      "execution_count": null,
      "metadata": {
        "id": "Zpymhhsftzx4",
        "colab": {
          "base_uri": "https://localhost:8080/"
        },
        "outputId": "90ede5b4-2d48-44dd-ed5d-40c86550f120"
      },
      "outputs": [
        {
          "output_type": "stream",
          "name": "stdout",
          "text": [
            "Model: \"sequential\"\n",
            "_________________________________________________________________\n",
            " Layer (type)                Output Shape              Param #   \n",
            "=================================================================\n",
            " conv2d (Conv2D)             (None, 124, 170, 16)      416       \n",
            "                                                                 \n",
            " max_pooling2d (MaxPooling2D  (None, 62, 85, 16)       0         \n",
            " )                                                               \n",
            "                                                                 \n",
            " dropout (Dropout)           (None, 62, 85, 16)        0         \n",
            "                                                                 \n",
            " conv2d_1 (Conv2D)           (None, 59, 82, 32)        8224      \n",
            "                                                                 \n",
            " max_pooling2d_1 (MaxPooling  (None, 29, 41, 32)       0         \n",
            " 2D)                                                             \n",
            "                                                                 \n",
            " dropout_1 (Dropout)         (None, 29, 41, 32)        0         \n",
            "                                                                 \n",
            " conv2d_2 (Conv2D)           (None, 28, 40, 64)        8256      \n",
            "                                                                 \n",
            " max_pooling2d_2 (MaxPooling  (None, 14, 20, 64)       0         \n",
            " 2D)                                                             \n",
            "                                                                 \n",
            " dropout_2 (Dropout)         (None, 14, 20, 64)        0         \n",
            "                                                                 \n",
            " conv2d_3 (Conv2D)           (None, 13, 19, 128)       32896     \n",
            "                                                                 \n",
            " max_pooling2d_3 (MaxPooling  (None, 6, 9, 128)        0         \n",
            " 2D)                                                             \n",
            "                                                                 \n",
            " dropout_3 (Dropout)         (None, 6, 9, 128)         0         \n",
            "                                                                 \n",
            " global_average_pooling2d (G  (None, 128)              0         \n",
            " lobalAveragePooling2D)                                          \n",
            "                                                                 \n",
            " dense (Dense)               (None, 10)                1290      \n",
            "                                                                 \n",
            "=================================================================\n",
            "Total params: 51,082\n",
            "Trainable params: 51,082\n",
            "Non-trainable params: 0\n",
            "_________________________________________________________________\n"
          ]
        }
      ],
      "source": [
        "mel_model.summary()"
      ]
    },
    {
      "cell_type": "code",
      "execution_count": null,
      "metadata": {
        "id": "blKpMHF-ly0D"
      },
      "outputs": [],
      "source": [
        "mel_model.compile(\n",
        "    optimizer=tf.keras.optimizers.Adam(),\n",
        "    loss=tf.keras.losses.SparseCategoricalCrossentropy(),\n",
        "    metrics=['accuracy'],\n",
        ")"
      ]
    },
    {
      "cell_type": "code",
      "execution_count": null,
      "metadata": {
        "id": "Hz9pP0u2lyt2"
      },
      "outputs": [],
      "source": [
        "EPOCHS = 70\n",
        "BATCH_SIZE = 32\n",
        "\n",
        "history = mel_model.fit(\n",
        "    mel_x_train,\n",
        "    mel_y_train,\n",
        "    epochs=EPOCHS,\n",
        "    batch_size=BATCH_SIZE\n",
        ")"
      ]
    },
    {
      "cell_type": "code",
      "execution_count": null,
      "metadata": {
        "id": "Ikl1tbEnrMje",
        "colab": {
          "base_uri": "https://localhost:8080/"
        },
        "outputId": "d4fd9d42-2136-49d0-f780-b4e8d5d03d5f"
      },
      "outputs": [
        {
          "output_type": "stream",
          "name": "stdout",
          "text": [
            "133/133 [==============================] - 2s 13ms/step - loss: 2.3287 - accuracy: 0.6841\n",
            "30/30 [==============================] - 0s 15ms/step - loss: 1.2570 - accuracy: 0.7276\n",
            "27/27 [==============================] - 0s 15ms/step - loss: 1.4971 - accuracy: 0.6802\n",
            "26/26 [==============================] - 0s 12ms/step - loss: 4.3052 - accuracy: 0.6005\n",
            "26/26 [==============================] - 0s 16ms/step - loss: 3.2528 - accuracy: 0.7022\n",
            "27/27 [==============================] - 0s 15ms/step - loss: 1.5557 - accuracy: 0.7025\n",
            "Accuracy:0.6825932383537292\n",
            "Accuracy Std:0.0437020620754679\n"
          ]
        }
      ],
      "source": [
        "test_loss, test_acc = mel_model.evaluate(mel_x_test, mel_y_test, verbose = 1)\n",
        "\n",
        "test_loss_5, test_acc_5 = mel_model.evaluate(mel_x_test_5, mel_y_test_5, verbose = 1)\n",
        "\n",
        "test_loss_7, test_acc_7 = mel_model.evaluate(mel_x_test_7, mel_y_test_7, verbose = 1)\n",
        "\n",
        "test_loss_8, test_acc_8 = mel_model.evaluate(mel_x_test_8, mel_y_test_8, verbose = 1)\n",
        "\n",
        "test_loss_9, test_acc_9 = mel_model.evaluate(mel_x_test_9, mel_y_test_9, verbose = 1)\n",
        "\n",
        "test_loss_10, test_acc_10 = mel_model.evaluate(mel_x_test_10, mel_y_test_10, verbose = 1)\n",
        "\n",
        "average_accuracy = sum([test_acc_5,test_acc_7,test_acc_8,test_acc_9,test_acc_10])/5\n",
        "accuracy_std = np.std(np.array([test_acc_5,test_acc_7,test_acc_8,test_acc_9,test_acc_10]))\n",
        "\n",
        "print(\"Accuracy:\" + str(average_accuracy))\n",
        "print(\"Accuracy Std:\" + str(accuracy_std))"
      ]
    },
    {
      "cell_type": "code",
      "execution_count": null,
      "metadata": {
        "id": "gdezf-p08nXP",
        "colab": {
          "base_uri": "https://localhost:8080/"
        },
        "outputId": "3fc4fd7d-1301-45c1-8d3f-a43300bb7b24"
      },
      "outputs": [
        {
          "output_type": "stream",
          "name": "stdout",
          "text": [
            "Test set accuracy: 83%\n"
          ]
        }
      ],
      "source": [
        "y_pred = np.argmax(mel_model.predict(mel_x_test), axis=1)\n",
        "y_pred_2 = np.argsort(mel_model.predict(mel_x_test), axis=1)[:,-2]\n",
        "y_true = mel_y_test\n",
        "\n",
        "test_acc = (sum(y_pred == y_true) + sum(y_pred_2 == y_true))/ len(y_true)\n",
        "print(f'Test set accuracy: {test_acc:.0%}')"
      ]
    },
    {
      "cell_type": "code",
      "execution_count": null,
      "metadata": {
        "id": "RV_iqU8581l2",
        "colab": {
          "base_uri": "https://localhost:8080/",
          "height": 569
        },
        "outputId": "27dff66b-3396-400b-a076-9ca5b39e1459"
      },
      "outputs": [
        {
          "output_type": "display_data",
          "data": {
            "text/plain": [
              "<Figure size 720x576 with 2 Axes>"
            ],
            "image/png": "[encoded data removed]"
          },
          "metadata": {
            "needs_background": "light"
          }
        }
      ],
      "source": [
        "import seaborn as sns\n",
        "categories = ['air_conditioner', 'car_horn', 'children_playing', 'dog_bark', 'drilling', 'engine_idling', 'gun_shot', 'jackhammer', 'siren', 'street_music']\n",
        "\n",
        "confusion_mtx = tf.math.confusion_matrix(y_true, y_pred)\n",
        "plt.figure(figsize=(10, 8))\n",
        "sns.heatmap(confusion_mtx,\n",
        "            xticklabels=categories,\n",
        "            yticklabels=categories,\n",
        "            annot=True, fmt='g')\n",
        "plt.xlabel('Prediction')\n",
        "plt.ylabel('Label')\n",
        "plt.show()"
      ]
    },
    {
      "cell_type": "markdown",
      "source": [
        "###Overall testing"
      ],
      "metadata": {
        "id": "WpwwBD2BWYkl"
      }
    },
    {
      "cell_type": "code",
      "source": [
        "result= []\n",
        "for BATCH_SIZE in [32,64,128]:  \n",
        "  for EPOCHS in [30,40,50,70]:\n",
        "    for i in range(3):\n",
        "      mel_model = create_mfcc_model(input_shape)\n",
        "\n",
        "      mel_model.compile(\n",
        "      optimizer=tf.keras.optimizers.Adam(),\n",
        "      loss=tf.keras.losses.SparseCategoricalCrossentropy(),#from_logits=True),\n",
        "      metrics=['accuracy'],\n",
        "      )\n",
        "\n",
        "      history = mel_model.fit(\n",
        "      mel_x_train,\n",
        "      mel_y_train,\n",
        "      epochs=EPOCHS,\n",
        "      batch_size=BATCH_SIZE\n",
        "      )\n",
        "\n",
        "      test_loss, test_acc = mel_model.evaluate(mel_x_test, mel_y_test, verbose = 1)\n",
        "\n",
        "      test_loss_5, test_acc_5 = mel_model.evaluate(mel_x_test_5, mel_y_test_5, verbose = 1)\n",
        "\n",
        "      test_loss_7, test_acc_7 = mel_model.evaluate(mel_x_test_7, mel_y_test_7, verbose = 1)\n",
        "\n",
        "      test_loss_8, test_acc_8 = mel_model.evaluate(mel_x_test_8, mel_y_test_8, verbose = 1)\n",
        "\n",
        "      test_loss_9, test_acc_9 = mel_model.evaluate(mel_x_test_9, mel_y_test_9, verbose = 1)\n",
        "\n",
        "      test_loss_10, test_acc_10 = mel_model.evaluate(mel_x_test_10, mel_y_test_10, verbose = 1)\n",
        "\n",
        "      average_accuracy = sum([test_acc_5,test_acc_7,test_acc_8,test_acc_9,test_acc_10])/5\n",
        "      accuracy_std = np.std(np.array([test_acc_5,test_acc_7,test_acc_8,test_acc_9,test_acc_10]))\n",
        "\n",
        "      result.append(\"Batch size: \"+ str(BATCH_SIZE) + \" Epoche: \"+ str(EPOCHS) + \" Train acc: \"+ str(history.history['accuracy'][-1])+ \" Test acc: \"+ str(average_accuracy) + \" Test accuracy Std:\" + str(accuracy_std))"
      ],
      "metadata": {
        "id": "WGB0akLyWYkp"
      },
      "execution_count": null,
      "outputs": []
    },
    {
      "cell_type": "code",
      "source": [
        "f=open('mel_results.txt','w')\n",
        "for ele in result:\n",
        "    f.write(ele+'\\n')\n",
        "\n",
        "f.close()"
      ],
      "metadata": {
        "id": "eJbL2uvtWYkv"
      },
      "execution_count": null,
      "outputs": []
    },
    {
      "cell_type": "markdown",
      "metadata": {
        "id": "vodMHRkgE5i0"
      },
      "source": [
        "##CNN MFCC with validation\n"
      ]
    },
    {
      "cell_type": "markdown",
      "source": [
        "Class distribution of the samples for each fold"
      ],
      "metadata": {
        "id": "NSLHJa86jjs0"
      }
    },
    {
      "cell_type": "code",
      "source": [
        "stats = pd.read_csv(\"/content/statistics.csv\")\n",
        "for i in [1,2,3,4,6]:\n",
        "  print(\"Fold: \"+str(i))\n",
        "  print(stats['class'][stats['fold']==i].value_counts(normalize = True).sort_index())"
      ],
      "metadata": {
        "colab": {
          "base_uri": "https://localhost:8080/"
        },
        "id": "dhUK8oCU87F6",
        "outputId": "bc95b60c-350a-4b0e-a4d5-339a3224b0e1"
      },
      "execution_count": null,
      "outputs": [
        {
          "output_type": "stream",
          "name": "stdout",
          "text": [
            "Fold: 1\n",
            "0    0.114548\n",
            "1    0.041237\n",
            "2    0.114548\n",
            "3    0.114548\n",
            "4    0.114548\n",
            "5    0.109966\n",
            "6    0.040092\n",
            "7    0.137457\n",
            "8    0.098511\n",
            "9    0.114548\n",
            "Name: class, dtype: float64\n",
            "Fold: 2\n",
            "0    0.112613\n",
            "1    0.047297\n",
            "2    0.112613\n",
            "3    0.112613\n",
            "4    0.112613\n",
            "5    0.112613\n",
            "6    0.039414\n",
            "7    0.135135\n",
            "8    0.102477\n",
            "9    0.112613\n",
            "Name: class, dtype: float64\n",
            "Fold: 3\n",
            "0    0.108108\n",
            "1    0.046486\n",
            "2    0.108108\n",
            "3    0.108108\n",
            "4    0.108108\n",
            "5    0.115676\n",
            "6    0.038919\n",
            "7    0.129730\n",
            "8    0.128649\n",
            "9    0.108108\n",
            "Name: class, dtype: float64\n",
            "Fold: 4\n",
            "0    0.101010\n",
            "1    0.059596\n",
            "2    0.101010\n",
            "3    0.101010\n",
            "4    0.101010\n",
            "5    0.108081\n",
            "6    0.038384\n",
            "7    0.121212\n",
            "8    0.167677\n",
            "9    0.101010\n",
            "Name: class, dtype: float64\n",
            "Fold: 6\n",
            "0    0.121507\n",
            "1    0.034022\n",
            "2    0.121507\n",
            "3    0.121507\n",
            "4    0.121507\n",
            "5    0.130012\n",
            "6    0.055893\n",
            "7    0.082625\n",
            "8    0.089915\n",
            "9    0.121507\n",
            "Name: class, dtype: float64\n"
          ]
        }
      ]
    },
    {
      "cell_type": "code",
      "execution_count": null,
      "metadata": {
        "id": "WQLg8znIPO5y"
      },
      "outputs": [],
      "source": [
        "x_train_1 = []\n",
        "x_train_2 = []\n",
        "x_train_3 = []\n",
        "x_train_4 = []\n",
        "x_train_6 = []\n",
        "\n",
        "y_train_1 = []\n",
        "y_train_2 = []\n",
        "y_train_3 = []\n",
        "y_train_4 = []\n",
        "y_train_6 = []\n",
        "\n",
        "x_test = []\n",
        "y_test = []\n",
        "\n",
        "x_test_5 = []\n",
        "x_test_7 = []\n",
        "x_test_8 = []\n",
        "x_test_9 = []\n",
        "x_test_10 = []\n",
        "\n",
        "y_test_5 = []\n",
        "y_test_7 = []\n",
        "y_test_8 = []\n",
        "y_test_9 = []\n",
        "y_test_10 = []\n",
        "\n",
        "\n",
        "for dir in os.listdir(\"/content/UrbanSoundPreprocessed/\"):\n",
        "  if(dir!='.DS_Store'):\n",
        "    for file in os.listdir(\"/content/UrbanSoundPreprocessed/\"+dir+\"/\"):\n",
        "      if(file!='.DS_Store'):\n",
        "        file_path = \"./UrbanSoundPreprocessed/\"+dir+\"/\"+file\n",
        "        sound_file, sampling_rate = librosa.load(file_path, sr = None)\n",
        "        category = float(file.split('-')[1])\n",
        "        \n",
        "        mfcc = librosa.feature.mfcc(y=sound_file, sr=sampling_rate, n_mfcc=40)\n",
        "        \n",
        "        if ((dir == 'fold1') | (dir == 'fold2') | (dir == 'fold3') | (dir == 'fold4') | (dir == 'fold6')):\n",
        "        \n",
        "          if(dir == 'fold1'):\n",
        "            x_train_1.append(mfcc)\n",
        "            y_train_1.append(category)\n",
        "          if(dir == 'fold2'):\n",
        "            x_train_2.append(mfcc)\n",
        "            y_train_2.append(category)\n",
        "          if(dir == 'fold3'):\n",
        "            x_train_3.append(mfcc)\n",
        "            y_train_3.append(category)\n",
        "          if(dir == 'fold4'):\n",
        "            x_train_4.append(mfcc)\n",
        "            y_train_4.append(category)\n",
        "          if(dir == 'fold6'):\n",
        "            x_train_6.append(mfcc)\n",
        "            y_train_6.append(category)\n",
        "\n",
        "        else:\n",
        "          x_test.append(mfcc)\n",
        "          y_test.append(category)\n",
        "\n",
        "          if (dir == 'fold5'):\n",
        "            x_test_5.append(mfcc)\n",
        "            y_test_5.append(category)\n",
        "          \n",
        "          if (dir == 'fold7'):\n",
        "            x_test_7.append(mfcc)\n",
        "            y_test_7.append(category)\n",
        "\n",
        "          if (dir == 'fold8'):\n",
        "            x_test_8.append(mfcc)\n",
        "            y_test_8.append(category)\n",
        "          \n",
        "          if (dir == 'fold9'):\n",
        "            x_test_9.append(mfcc)\n",
        "            y_test_9.append(category)\n",
        "          \n",
        "          if (dir == 'fold10'):\n",
        "            x_test_10.append(mfcc)\n",
        "            y_test_10.append(category)"
      ]
    },
    {
      "cell_type": "code",
      "execution_count": null,
      "metadata": {
        "id": "g3aUnGF_PQJj"
      },
      "outputs": [],
      "source": [
        "mfcc_x_train_1 = np.array(x_train_1)\n",
        "mfcc_x_train_2 = np.array(x_train_2)\n",
        "mfcc_x_train_3 = np.array(x_train_3)\n",
        "mfcc_x_train_4 = np.array(x_train_4)\n",
        "mfcc_x_train_6 = np.array(x_train_6)\n",
        "\n",
        "mfcc_y_train_1 = np.array(y_train_1)\n",
        "mfcc_y_train_2 = np.array(y_train_2)\n",
        "mfcc_y_train_3 = np.array(y_train_3)\n",
        "mfcc_y_train_4 = np.array(y_train_4)\n",
        "mfcc_y_train_6 = np.array(y_train_6)\n",
        "\n",
        "mfcc_x_test = np.array(x_test)\n",
        "mfcc_x_test_5 = np.array(x_test_5)\n",
        "mfcc_x_test_7 = np.array(x_test_7)\n",
        "mfcc_x_test_8 = np.array(x_test_8)\n",
        "mfcc_x_test_9 = np.array(x_test_9)\n",
        "mfcc_x_test_10 = np.array(x_test_10)\n",
        "\n",
        "mfcc_y_test_5 = np.array(y_test_5)\n",
        "mfcc_y_test_7 = np.array(y_test_7)\n",
        "mfcc_y_test_8 = np.array(y_test_8)\n",
        "mfcc_y_test_9 = np.array(y_test_9)\n",
        "mfcc_y_test_10 = np.array(y_test_10)\n",
        "\n",
        "mfcc_y_test = np.array(y_test)"
      ]
    },
    {
      "cell_type": "code",
      "source": [
        "mfcc_x_train = np.array([])\n",
        "mfcc_y_train = np.array([])\n",
        "val_x = np.array([])\n",
        "val_y = np.array([])\n",
        "best_validation_accuracy = 0\n",
        "train_x_list = [mfcc_x_train_1,mfcc_x_train_2,mfcc_x_train_3,mfcc_x_train_4,mfcc_x_train_6]\n",
        "train_y_list = [mfcc_y_train_1,mfcc_y_train_2,mfcc_y_train_3,mfcc_y_train_4,mfcc_y_train_6]\n",
        "\n",
        "for i in range(5):\n",
        "  for j in range(5):\n",
        "    if(i!=j):\n",
        "      if mfcc_x_train.size != 0:\n",
        "        mfcc_x_train = np.append(mfcc_x_train,train_x_list[j],axis=0)\n",
        "        mfcc_y_train = np.append(mfcc_y_train,train_y_list[j])\n",
        "      else:\n",
        "        mfcc_x_train = train_x_list[j]\n",
        "        mfcc_y_train = train_y_list[j]\n",
        "    else:\n",
        "        val_x = train_x_list[j]\n",
        "        val_y = train_y_list[j]\n",
        "\n",
        "  mfcc_x_train = mfcc_x_train.reshape(mfcc_x_train.shape[0], len(mfcc_x_train[0]), len(mfcc_x_train[0][0]),1)\n",
        "\n",
        "  input_shape = mfcc_x_train.shape[1:]\n",
        "\n",
        "  mfcc_y_train = np.array(mfcc_y_train)\n",
        "  val_x = np.array(val_x)\n",
        "  val_y = np.array(val_y)\n",
        "\n",
        "  model = create_mfcc_model(input_shape)\n",
        "\n",
        "  model.compile(loss='sparse_categorical_crossentropy', metrics=['accuracy'], optimizer='adam')\n",
        "  #model.summary()\n",
        "\n",
        "  print('Model '+str(i)+':')\n",
        "\n",
        "  EPOCHS = 30\n",
        "\n",
        "  BATCH_SIZE = 32\n",
        "\n",
        "  history = model.fit(\n",
        "    mfcc_x_train,\n",
        "    mfcc_y_train,\n",
        "    epochs=EPOCHS,\n",
        "    batch_size = BATCH_SIZE,\n",
        "    validation_data = (val_x,val_y),\n",
        "    callbacks=tf.keras.callbacks.EarlyStopping(monitor='val_accuracy', mode='max', verbose=1, patience=2)\n",
        "  )\n",
        "  \n",
        "  if (history.history['val_accuracy'][-1] > best_validation_accuracy):\n",
        "    best_validation_accuracy = history.history['val_accuracy'][-1]\n",
        "    best_model = model\n",
        "\n",
        "  mfcc_x_train = np.array([])\n",
        "  mfcc_y_train = np.array([])"
      ],
      "metadata": {
        "id": "dKcGmejnI_3L"
      },
      "execution_count": null,
      "outputs": []
    },
    {
      "cell_type": "code",
      "execution_count": null,
      "metadata": {
        "colab": {
          "base_uri": "https://localhost:8080/"
        },
        "id": "Fw3zP09YGYw2",
        "outputId": "e62f5618-f38b-45ca-a670-3f2329b99b84"
      },
      "outputs": [
        {
          "output_type": "stream",
          "name": "stdout",
          "text": [
            "Testing on all test folds\n",
            "133/133 [==============================] - 1s 9ms/step - loss: 1.5377 - accuracy: 0.5223\n",
            "Testing on each test fold singularly\n",
            "30/30 [==============================] - 0s 10ms/step - loss: 1.5268 - accuracy: 0.4701\n",
            "27/27 [==============================] - 0s 11ms/step - loss: 1.1914 - accuracy: 0.5955\n",
            "26/26 [==============================] - 0s 9ms/step - loss: 1.7783 - accuracy: 0.5372\n",
            "26/26 [==============================] - 0s 11ms/step - loss: 1.5582 - accuracy: 0.5319\n",
            "27/27 [==============================] - 0s 11ms/step - loss: 1.6452 - accuracy: 0.4839\n",
            "Average test Accuracy:0.5237010836601257\n",
            "Average accuracy Std:0.04440853427253379\n"
          ]
        }
      ],
      "source": [
        "# Evaluating the model on the training and testing set\n",
        "print(\"Testing on all test folds\")\n",
        "test_loss, test_acc = best_model.evaluate(mfcc_x_test, mfcc_y_test, verbose = 1)\n",
        "\n",
        "print(\"Testing on each test fold singularly\")\n",
        "test_loss_5, test_acc_5 = best_model.evaluate(mfcc_x_test_5, mfcc_y_test_5, verbose = 1)\n",
        "\n",
        "test_loss_7, test_acc_7 = best_model.evaluate(mfcc_x_test_7, mfcc_y_test_7, verbose = 1)\n",
        "\n",
        "test_loss_8, test_acc_8 = best_model.evaluate(mfcc_x_test_8, mfcc_y_test_8, verbose = 1)\n",
        "\n",
        "test_loss_9, test_acc_9 = best_model.evaluate(mfcc_x_test_9, mfcc_y_test_9, verbose = 1)\n",
        "\n",
        "test_loss_10, test_acc_10 = best_model.evaluate(mfcc_x_test_10, mfcc_y_test_10, verbose = 1)\n",
        "\n",
        "average_accuracy = sum([test_acc_5,test_acc_7,test_acc_8,test_acc_9,test_acc_10])/5\n",
        "accuracy_std = np.std(np.array([test_acc_5,test_acc_7,test_acc_8,test_acc_9,test_acc_10]))\n",
        "\n",
        "print(\"Average test Accuracy:\" + str(average_accuracy))\n",
        "print(\"Average accuracy Std:\" + str(accuracy_std))"
      ]
    },
    {
      "cell_type": "code",
      "execution_count": null,
      "metadata": {
        "colab": {
          "base_uri": "https://localhost:8080/"
        },
        "id": "GcSHO-6nMOrV",
        "outputId": "510fe348-48a5-4f17-e4a0-5b6221fb4eb6"
      },
      "outputs": [
        {
          "output_type": "stream",
          "name": "stdout",
          "text": [
            "Top 2 classes test set accuracy: 72%\n"
          ]
        }
      ],
      "source": [
        "y_pred = np.argmax(best_model.predict(mfcc_x_test), axis=1)\n",
        "y_pred_2 = np.argsort(best_model.predict(mfcc_x_test), axis=1)[:,-2]\n",
        "y_true = mfcc_y_test\n",
        "\n",
        "test_acc = (sum(y_pred == y_true) + sum(y_pred_2 == y_true))/ len(y_true)\n",
        "print(f'Top 2 classes test set accuracy: {test_acc:.0%}')"
      ]
    },
    {
      "cell_type": "code",
      "execution_count": null,
      "metadata": {
        "colab": {
          "base_uri": "https://localhost:8080/",
          "height": 569
        },
        "id": "dyRW8C3WMRMk",
        "outputId": "a9fd0ddb-1d68-4553-a77e-eae2533099a6"
      },
      "outputs": [
        {
          "output_type": "display_data",
          "data": {
            "text/plain": [
              "<Figure size 720x576 with 2 Axes>"
            ],
            "image/png": "[encoded data removed]"
          },
          "metadata": {
            "needs_background": "light"
          }
        }
      ],
      "source": [
        "import seaborn as sns\n",
        "categories = ['air_conditioner', 'car_horn', 'children_playing', 'dog_bark', 'drilling', 'engine_idling', 'gun_shot', 'jackhammer', 'siren', 'street_music']\n",
        "\n",
        "confusion_mtx = tf.math.confusion_matrix(y_true, y_pred)\n",
        "plt.figure(figsize=(10, 8))\n",
        "sns.heatmap(confusion_mtx,\n",
        "            xticklabels=categories,\n",
        "            yticklabels=categories,\n",
        "            annot=True, fmt='g')\n",
        "plt.xlabel('Prediction')\n",
        "plt.ylabel('Label')\n",
        "plt.show()"
      ]
    },
    {
      "cell_type": "markdown",
      "source": [
        "##CNN MFCC without validation"
      ],
      "metadata": {
        "id": "mVzVcF3xMItp"
      }
    },
    {
      "cell_type": "code",
      "execution_count": 31,
      "metadata": {
        "id": "ptoBvd8Ycrwr"
      },
      "outputs": [],
      "source": [
        "x_train = []\n",
        "x_test = []\n",
        "y_train = []\n",
        "y_test = []\n",
        "\n",
        "x_test_5 = []\n",
        "x_test_7 = []\n",
        "x_test_8 = []\n",
        "x_test_9 = []\n",
        "x_test_10 = []\n",
        "\n",
        "y_test_5 = []\n",
        "y_test_7 = []\n",
        "y_test_8 = []\n",
        "y_test_9 = []\n",
        "y_test_10 = []\n",
        "\n",
        "\n",
        "for dir in os.listdir(\"/content/UrbanSoundPreprocessed/\"):\n",
        "  if(dir!='.DS_Store'):\n",
        "    for file in os.listdir(\"/content/UrbanSoundPreprocessed/\"+dir+\"/\"):\n",
        "      if(file!='.DS_Store'):\n",
        "        file_path = \"./UrbanSoundPreprocessed/\"+dir+\"/\"+file\n",
        "        sound_file, sampling_rate = librosa.load(file_path, sr = None)\n",
        "        category = float(file.split('-')[1])\n",
        "\n",
        "        mfcc = librosa.feature.mfcc(y=sound_file, sr=sampling_rate, n_mfcc=40)\n",
        "        \n",
        "        if ((dir == 'fold1') | (dir == 'fold2') | (dir == 'fold3') | (dir == 'fold4') | (dir == 'fold6')):\n",
        "          x_train.append(mfcc)\n",
        "          y_train.append(category)\n",
        "\n",
        "        else:   \n",
        "          x_test.append(mfcc)\n",
        "          y_test.append(category)\n",
        "          \n",
        "          if (dir == 'fold5'):\n",
        "            x_test_5.append(mfcc)\n",
        "            y_test_5.append(category)\n",
        "          \n",
        "          if (dir == 'fold7'):\n",
        "            x_test_7.append(mfcc)\n",
        "            y_test_7.append(category)\n",
        "\n",
        "          if (dir == 'fold8'):\n",
        "            x_test_8.append(mfcc)\n",
        "            y_test_8.append(category)\n",
        "          \n",
        "          if (dir == 'fold9'):\n",
        "            x_test_9.append(mfcc)\n",
        "            y_test_9.append(category)\n",
        "          \n",
        "          if (dir == 'fold10'):\n",
        "            x_test_10.append(mfcc)\n",
        "            y_test_10.append(category)\n"
      ]
    },
    {
      "cell_type": "code",
      "source": [
        "mfcc_x_train = np.array(x_train)\n",
        "mfcc_x_train = mfcc_x_train.reshape(mfcc_x_train.shape[0], len(mfcc_x_train[0]), len(mfcc_x_train[0][0]),1)\n",
        "\n",
        "mfcc_y_train = np.array(y_train)\n",
        "\n",
        "mfcc_x_test = np.array(x_test)\n",
        "mfcc_x_test_5 = np.array(x_test_5)\n",
        "mfcc_x_test_7 = np.array(x_test_7)\n",
        "mfcc_x_test_8 = np.array(x_test_8)\n",
        "mfcc_x_test_9 = np.array(x_test_9)\n",
        "mfcc_x_test_10 = np.array(x_test_10)\n",
        "\n",
        "mfcc_y_test_5 = np.array(y_test_5)\n",
        "mfcc_y_test_7 = np.array(y_test_7)\n",
        "mfcc_y_test_8 = np.array(y_test_8)\n",
        "mfcc_y_test_9 = np.array(y_test_9)\n",
        "mfcc_y_test_10 = np.array(y_test_10)\n",
        "\n",
        "mfcc_y_test = np.array(y_test)"
      ],
      "metadata": {
        "id": "1XGKowjUovP4"
      },
      "execution_count": 32,
      "outputs": []
    },
    {
      "cell_type": "code",
      "source": [
        "input_shape = mfcc_x_train.shape[1:]\n",
        "input_shape"
      ],
      "metadata": {
        "id": "uKKBUmsOos0e",
        "colab": {
          "base_uri": "https://localhost:8080/"
        },
        "outputId": "f6ddc742-6098-4d22-d8f5-9525fdd5e50d"
      },
      "execution_count": 33,
      "outputs": [
        {
          "output_type": "execute_result",
          "data": {
            "text/plain": [
              "(40, 348, 1)"
            ]
          },
          "metadata": {},
          "execution_count": 33
        }
      ]
    },
    {
      "cell_type": "code",
      "source": [
        "# Construct model \n",
        "mfcc_model = create_mfcc_model(input_shape)"
      ],
      "metadata": {
        "id": "gWpfM_cLoptx"
      },
      "execution_count": 34,
      "outputs": []
    },
    {
      "cell_type": "code",
      "source": [
        "# Compile the model\n",
        "mfcc_model.compile(loss='sparse_categorical_crossentropy', metrics=['accuracy'], optimizer='adam')\n",
        "\n",
        "# Display model architecture summary \n",
        "mfcc_model.summary()"
      ],
      "metadata": {
        "id": "mq5XbujzonSz",
        "colab": {
          "base_uri": "https://localhost:8080/"
        },
        "outputId": "d33f21d2-c350-4487-df46-93ac32a599ee"
      },
      "execution_count": 35,
      "outputs": [
        {
          "output_type": "stream",
          "name": "stdout",
          "text": [
            "Model: \"sequential_1\"\n",
            "_________________________________________________________________\n",
            " Layer (type)                Output Shape              Param #   \n",
            "=================================================================\n",
            " conv2d (Conv2D)             (None, 36, 344, 16)       416       \n",
            "                                                                 \n",
            " max_pooling2d (MaxPooling2D  (None, 18, 172, 16)      0         \n",
            " )                                                               \n",
            "                                                                 \n",
            " dropout (Dropout)           (None, 18, 172, 16)       0         \n",
            "                                                                 \n",
            " conv2d_1 (Conv2D)           (None, 15, 169, 32)       8224      \n",
            "                                                                 \n",
            " max_pooling2d_1 (MaxPooling  (None, 7, 84, 32)        0         \n",
            " 2D)                                                             \n",
            "                                                                 \n",
            " dropout_1 (Dropout)         (None, 7, 84, 32)         0         \n",
            "                                                                 \n",
            " conv2d_2 (Conv2D)           (None, 6, 83, 64)         8256      \n",
            "                                                                 \n",
            " max_pooling2d_2 (MaxPooling  (None, 3, 41, 64)        0         \n",
            " 2D)                                                             \n",
            "                                                                 \n",
            " dropout_2 (Dropout)         (None, 3, 41, 64)         0         \n",
            "                                                                 \n",
            " conv2d_3 (Conv2D)           (None, 2, 40, 128)        32896     \n",
            "                                                                 \n",
            " max_pooling2d_3 (MaxPooling  (None, 1, 20, 128)       0         \n",
            " 2D)                                                             \n",
            "                                                                 \n",
            " dropout_3 (Dropout)         (None, 1, 20, 128)        0         \n",
            "                                                                 \n",
            " global_average_pooling2d (G  (None, 128)              0         \n",
            " lobalAveragePooling2D)                                          \n",
            "                                                                 \n",
            " dense_3 (Dense)             (None, 10)                1290      \n",
            "                                                                 \n",
            "=================================================================\n",
            "Total params: 51,082\n",
            "Trainable params: 51,082\n",
            "Non-trainable params: 0\n",
            "_________________________________________________________________\n"
          ]
        }
      ]
    },
    {
      "cell_type": "code",
      "source": [
        "EPOCHS = 70\n",
        "BATCH_SIZE = 128\n",
        "\n",
        "history = mfcc_model.fit(\n",
        "    mfcc_x_train,\n",
        "    mfcc_y_train,\n",
        "    epochs=EPOCHS,\n",
        "    batch_size = BATCH_SIZE\n",
        ")"
      ],
      "metadata": {
        "id": "tl7SIjywokCt"
      },
      "execution_count": null,
      "outputs": []
    },
    {
      "cell_type": "code",
      "source": [
        "# Evaluating the model on the training and testing set\n",
        "score = mfcc_model.evaluate(mfcc_x_train, mfcc_y_train, verbose=0)\n",
        "print(\"Training Accuracy: \", score[1])\n",
        "\n",
        "test_loss, test_acc = mfcc_model.evaluate(mfcc_x_test, mfcc_y_test, verbose = 1)\n",
        "\n",
        "test_loss_5, test_acc_5 = mfcc_model.evaluate(mfcc_x_test_5, mfcc_y_test_5, verbose = 1)\n",
        "\n",
        "test_loss_7, test_acc_7 = mfcc_model.evaluate(mfcc_x_test_7, mfcc_y_test_7, verbose = 1)\n",
        "\n",
        "test_loss_8, test_acc_8 = mfcc_model.evaluate(mfcc_x_test_8, mfcc_y_test_8, verbose = 1)\n",
        "\n",
        "test_loss_9, test_acc_9 = mfcc_model.evaluate(mfcc_x_test_9, mfcc_y_test_9, verbose = 1)\n",
        "\n",
        "test_loss_10, test_acc_10 = mfcc_model.evaluate(mfcc_x_test_10, mfcc_y_test_10, verbose = 1)\n",
        "\n",
        "average_accuracy = sum([test_acc_5,test_acc_7,test_acc_8,test_acc_9,test_acc_10])/5\n",
        "accuracy_std = np.std(np.array([test_acc_5,test_acc_7,test_acc_8,test_acc_9,test_acc_10]))\n",
        "\n",
        "print(\"Test Accuracy:\" + str(average_accuracy))\n",
        "print(\"Accuracy Std:\" + str(accuracy_std))"
      ],
      "metadata": {
        "id": "YfPMCFhsohhb"
      },
      "execution_count": null,
      "outputs": []
    },
    {
      "cell_type": "code",
      "source": [
        "y_pred = np.argmax(mfcc_model.predict(mfcc_x_test), axis=1)\n",
        "y_pred_2 = np.argsort(mfcc_model.predict(mfcc_x_test), axis=1)[:,-2]\n",
        "y_true = mfcc_y_test\n",
        "\n",
        "test_acc = (sum(y_pred == y_true) + sum(y_pred_2 == y_true))/ len(y_true)\n",
        "print(f'Test set accuracy: {test_acc:.0%}')"
      ],
      "metadata": {
        "id": "XuXhSHcmoPse"
      },
      "execution_count": null,
      "outputs": []
    },
    {
      "cell_type": "code",
      "source": [
        "import seaborn as sns\n",
        "categories = ['air_conditioner', 'car_horn', 'children_playing', 'dog_bark', 'drilling', 'engine_idling', 'gun_shot', 'jackhammer', 'siren', 'street_music']\n",
        "\n",
        "confusion_mtx = tf.math.confusion_matrix(y_true, y_pred)\n",
        "plt.figure(figsize=(10, 8))\n",
        "sns.heatmap(confusion_mtx,\n",
        "            xticklabels=categories,\n",
        "            yticklabels=categories,\n",
        "            annot=True, fmt='g')\n",
        "plt.xlabel('Prediction')\n",
        "plt.ylabel('Label')\n",
        "plt.show()\n"
      ],
      "metadata": {
        "id": "VfAtcEJeoNJz"
      },
      "execution_count": null,
      "outputs": []
    },
    {
      "cell_type": "markdown",
      "source": [
        "##Chromagram\n"
      ],
      "metadata": {
        "id": "XE_6EloeVh-P"
      }
    },
    {
      "cell_type": "code",
      "source": [
        "x_train = []\n",
        "y_train = []\n",
        "\n",
        "x_test = []\n",
        "y_test = []\n",
        "\n",
        "x_test_5 = []\n",
        "x_test_7 = []\n",
        "x_test_8 = []\n",
        "x_test_9 = []\n",
        "x_test_10 = []\n",
        "\n",
        "y_test_5 = []\n",
        "y_test_7 = []\n",
        "y_test_8 = []\n",
        "y_test_9 = []\n",
        "y_test_10 = []\n",
        "\n",
        "for dir in os.listdir(\"/content/UrbanSoundPreprocessed/\"):\n",
        "  if(dir!='.DS_Store'):\n",
        "    for file in os.listdir(\"/content/UrbanSoundPreprocessed/\"+dir+\"/\"):\n",
        "      if(file!='.DS_Store'):\n",
        "        file_path = \"./UrbanSoundPreprocessed/\"+dir+\"/\"+file\n",
        "        sound_file, sampling_rate = librosa.load(file_path, sr = None)\n",
        "        category = float(file.split('-')[1])\n",
        "        \n",
        "        chroma = librosa.feature.chroma_stft(y=sound_file, sr=sampling_rate, hop_length=1024, win_length=2048)\n",
        "        \n",
        "        if ((dir == 'fold1') | (dir == 'fold2') | (dir == 'fold3') | (dir == 'fold4') | (dir == 'fold6')):\n",
        "          x_train.append(chroma)\n",
        "          y_train.append(category)\n",
        "          \n",
        "        else:\n",
        "          x_test.append(chroma)\n",
        "          y_test.append(category)\n",
        "\n",
        "          if (dir == 'fold5'):\n",
        "            x_test_5.append(chroma)\n",
        "            y_test_5.append(category)\n",
        "          \n",
        "          if (dir == 'fold7'):\n",
        "            x_test_7.append(chroma)\n",
        "            y_test_7.append(category)\n",
        "\n",
        "          if (dir == 'fold8'):\n",
        "            x_test_8.append(chroma)\n",
        "            y_test_8.append(category)\n",
        "          \n",
        "          if (dir == 'fold9'):\n",
        "            x_test_9.append(chroma)\n",
        "            y_test_9.append(category)\n",
        "          \n",
        "          if (dir == 'fold10'):\n",
        "            x_test_10.append(chroma)\n",
        "            y_test_10.append(category)\n",
        "\n",
        "chroma_x_train = np.array(x_train)\n",
        "chroma_x_train = chroma_x_train.reshape(chroma_x_train.shape[0], len(chroma_x_train[0]), len(chroma_x_train[0][0]),1)\n",
        "\n",
        "chroma_y_train = np.array(y_train)\n",
        "\n",
        "chroma_x_test = np.array(x_test)\n",
        "chroma_x_test_5 = np.array(x_test_5)\n",
        "chroma_x_test_7 = np.array(x_test_7)\n",
        "chroma_x_test_8 = np.array(x_test_8)\n",
        "chroma_x_test_9 = np.array(x_test_9)\n",
        "chroma_x_test_10 = np.array(x_test_10)\n",
        "\n",
        "chroma_y_test_5 = np.array(y_test_5)\n",
        "chroma_y_test_7 = np.array(y_test_7)\n",
        "chroma_y_test_8 = np.array(y_test_8)\n",
        "chroma_y_test_9 = np.array(y_test_9)\n",
        "chroma_y_test_10 = np.array(y_test_10)\n",
        "\n",
        "chroma_y_test = np.array(y_test)"
      ],
      "metadata": {
        "id": "GysfGjZBNpEH"
      },
      "execution_count": null,
      "outputs": []
    },
    {
      "cell_type": "code",
      "source": [
        "input_shape = chroma_x_train.shape[1:]\n",
        "input_shape"
      ],
      "metadata": {
        "colab": {
          "base_uri": "https://localhost:8080/"
        },
        "id": "3YOzroscPunR",
        "outputId": "ce07d9c6-a048-4514-c31d-44fe66527db0"
      },
      "execution_count": null,
      "outputs": [
        {
          "output_type": "execute_result",
          "data": {
            "text/plain": [
              "(12, 174, 1)"
            ]
          },
          "metadata": {},
          "execution_count": 65
        }
      ]
    },
    {
      "cell_type": "code",
      "source": [
        "chroma_model = create_chroma_model(input_shape) "
      ],
      "metadata": {
        "id": "fsE8uWnZNsgn"
      },
      "execution_count": null,
      "outputs": []
    },
    {
      "cell_type": "code",
      "source": [
        "# Compile the model\n",
        "chroma_model.compile(loss='sparse_categorical_crossentropy', metrics=['accuracy'], optimizer='adam')"
      ],
      "metadata": {
        "id": "wpqsvouFP0Iy"
      },
      "execution_count": null,
      "outputs": []
    },
    {
      "cell_type": "code",
      "source": [
        "# Display model architecture summary \n",
        "chroma_model.summary()"
      ],
      "metadata": {
        "colab": {
          "base_uri": "https://localhost:8080/"
        },
        "id": "tMvQ7t8rVwDD",
        "outputId": "b1d205d4-ce4b-4119-ead6-94a448c79f4e"
      },
      "execution_count": null,
      "outputs": [
        {
          "output_type": "stream",
          "name": "stdout",
          "text": [
            "Model: \"sequential_6\"\n",
            "_________________________________________________________________\n",
            " Layer (type)                Output Shape              Param #   \n",
            "=================================================================\n",
            " conv2d_12 (Conv2D)          (None, 11, 173, 128)      640       \n",
            "                                                                 \n",
            " max_pooling2d_12 (MaxPoolin  (None, 5, 86, 128)       0         \n",
            " g2D)                                                            \n",
            "                                                                 \n",
            " dropout_12 (Dropout)        (None, 5, 86, 128)        0         \n",
            "                                                                 \n",
            " conv2d_13 (Conv2D)          (None, 4, 85, 256)        131328    \n",
            "                                                                 \n",
            " max_pooling2d_13 (MaxPoolin  (None, 2, 42, 256)       0         \n",
            " g2D)                                                            \n",
            "                                                                 \n",
            " dropout_13 (Dropout)        (None, 2, 42, 256)        0         \n",
            "                                                                 \n",
            " global_average_pooling2d_4   (None, 256)              0         \n",
            " (GlobalAveragePooling2D)                                        \n",
            "                                                                 \n",
            " dense_5 (Dense)             (None, 10)                2570      \n",
            "                                                                 \n",
            "=================================================================\n",
            "Total params: 134,538\n",
            "Trainable params: 134,538\n",
            "Non-trainable params: 0\n",
            "_________________________________________________________________\n"
          ]
        }
      ]
    },
    {
      "cell_type": "code",
      "source": [
        "EPOCHS = 50\n",
        "BATCH_SIZE = 32\n",
        "\n",
        "history = chroma_model.fit(\n",
        "    chroma_x_train,\n",
        "    chroma_y_train,\n",
        "    epochs=EPOCHS,\n",
        "    batch_size = BATCH_SIZE,\n",
        ")"
      ],
      "metadata": {
        "id": "HpX7asg3V0y8"
      },
      "execution_count": null,
      "outputs": []
    },
    {
      "cell_type": "code",
      "source": [
        "# Evaluating the model on the training and testing set\n",
        "score = chroma_model.evaluate(chroma_x_train, chroma_y_train, verbose=0)\n",
        "print(\"Training Accuracy: \", score[1])\n",
        "\n",
        "test_loss, test_acc = chroma_model.evaluate(chroma_x_test, chroma_y_test, verbose = 1)\n",
        "\n",
        "test_loss_5, test_acc_5 = chroma_model.evaluate(chroma_x_test_5, chroma_y_test_5, verbose = 1)\n",
        "\n",
        "test_loss_7, test_acc_7 = chroma_model.evaluate(chroma_x_test_7, chroma_y_test_7, verbose = 1)\n",
        "\n",
        "test_loss_8, test_acc_8 = chroma_model.evaluate(chroma_x_test_8, chroma_y_test_8, verbose = 1)\n",
        "\n",
        "test_loss_9, test_acc_9 = chroma_model.evaluate(chroma_x_test_9, chroma_y_test_9, verbose = 1)\n",
        "\n",
        "test_loss_10, test_acc_10 = chroma_model.evaluate(chroma_x_test_10, chroma_y_test_10, verbose = 1)\n",
        "\n",
        "average_accuracy = sum([test_acc_5,test_acc_7,test_acc_8,test_acc_9,test_acc_10])/5\n",
        "accuracy_std = np.std(np.array([test_acc_5,test_acc_7,test_acc_8,test_acc_9,test_acc_10]))\n",
        "\n",
        "print(\"Test Accuracy:\" + str(average_accuracy))\n",
        "print(\"Accuracy Std:\" + str(accuracy_std))"
      ],
      "metadata": {
        "colab": {
          "base_uri": "https://localhost:8080/"
        },
        "id": "xFOsATPjV_i9",
        "outputId": "23477986-2d09-4220-8351-9d85d27ec6bb"
      },
      "execution_count": null,
      "outputs": [
        {
          "output_type": "stream",
          "name": "stdout",
          "text": [
            "Training Accuracy:  0.6474772095680237\n",
            "133/133 [==============================] - 1s 8ms/step - loss: 1.5971 - accuracy: 0.5235\n",
            "30/30 [==============================] - 0s 8ms/step - loss: 1.3694 - accuracy: 0.5588\n",
            "27/27 [==============================] - 0s 8ms/step - loss: 1.3521 - accuracy: 0.4869\n",
            "26/26 [==============================] - 0s 8ms/step - loss: 1.5442 - accuracy: 0.5248\n",
            "26/26 [==============================] - 0s 8ms/step - loss: 2.4647 - accuracy: 0.5159\n",
            "27/27 [==============================] - 0s 8ms/step - loss: 1.3023 - accuracy: 0.5269\n",
            "Test Accuracy:0.5226522326469422\n",
            "Accuracy Std:0.023028981367268497\n"
          ]
        }
      ]
    },
    {
      "cell_type": "code",
      "source": [
        "y_pred = np.argmax(chroma_model.predict(chroma_x_test), axis=1)\n",
        "y_pred_2 = np.argsort(chroma_model.predict(chroma_x_test), axis=1)[:,-2]\n",
        "y_true = chroma_y_test\n",
        "\n",
        "test_acc = (sum(y_pred == y_true) + sum(y_pred_2 == y_true))/ len(y_true)\n",
        "print(f'Test set accuracy: {test_acc:.0%}')"
      ],
      "metadata": {
        "colab": {
          "base_uri": "https://localhost:8080/"
        },
        "id": "FHtuyyoxWEKQ",
        "outputId": "f6ea74e4-3099-4be7-a01e-5e1d4462cff7"
      },
      "execution_count": null,
      "outputs": [
        {
          "output_type": "stream",
          "name": "stdout",
          "text": [
            "Test set accuracy: 73%\n"
          ]
        }
      ]
    },
    {
      "cell_type": "code",
      "source": [
        "import seaborn as sns\n",
        "categories = ['air_conditioner', 'car_horn', 'children_playing', 'dog_bark', 'drilling', 'engine_idling', 'gun_shot', 'jackhammer', 'siren', 'street_music']\n",
        "\n",
        "confusion_mtx = tf.math.confusion_matrix(y_true, y_pred)\n",
        "plt.figure(figsize=(10, 8))\n",
        "sns.heatmap(confusion_mtx,\n",
        "            xticklabels=categories,\n",
        "            yticklabels=categories,\n",
        "            annot=True, fmt='g')\n",
        "plt.xlabel('Prediction')\n",
        "plt.ylabel('Label')\n",
        "plt.show()"
      ],
      "metadata": {
        "colab": {
          "base_uri": "https://localhost:8080/",
          "height": 569
        },
        "id": "swKktXaPWIRN",
        "outputId": "b22a8dfd-4bb6-401c-a7cd-49cc772821c8"
      },
      "execution_count": null,
      "outputs": [
        {
          "output_type": "display_data",
          "data": {
            "text/plain": [
              "<Figure size 720x576 with 2 Axes>"
            ],
            "image/png": "[encoded data removed]"
          },
          "metadata": {
            "needs_background": "light"
          }
        }
      ]
    },
    {
      "cell_type": "markdown",
      "source": [
        "###Overall testing"
      ],
      "metadata": {
        "id": "j8G-r4VYWFrZ"
      }
    },
    {
      "cell_type": "code",
      "source": [
        "result= []\n",
        "for BATCH_SIZE in [32,64,128]:  \n",
        "  for EPOCHS in [30,40,50,70]:\n",
        "    for i in range(3):\n",
        "      chroma_model = create_chroma_model(input_shape) \n",
        "      \n",
        "      chroma_model.compile(\n",
        "          loss='sparse_categorical_crossentropy', \n",
        "          metrics=['accuracy'], \n",
        "          optimizer='adam'\n",
        "      )\n",
        "      \n",
        "      history = chroma_model.fit(\n",
        "          chroma_x_train, \n",
        "          chroma_y_train, \n",
        "          epochs=EPOCHS,\n",
        "          batch_size = BATCH_SIZE\n",
        "      )\n",
        "\n",
        "      test_loss, test_acc = chroma_model.evaluate(chroma_x_test, chroma_y_test, verbose = 1)\n",
        "\n",
        "      test_loss_5, test_acc_5 = chroma_model.evaluate(chroma_x_test_5, chroma_y_test_5, verbose = 1)\n",
        "\n",
        "      test_loss_7, test_acc_7 = chroma_model.evaluate(chroma_x_test_7, chroma_y_test_7, verbose = 1)\n",
        "\n",
        "      test_loss_8, test_acc_8 = chroma_model.evaluate(chroma_x_test_8, chroma_y_test_8, verbose = 1)\n",
        "\n",
        "      test_loss_9, test_acc_9 = chroma_model.evaluate(chroma_x_test_9, chroma_y_test_9, verbose = 1)\n",
        "\n",
        "      test_loss_10, test_acc_10 = chroma_model.evaluate(chroma_x_test_10, chroma_y_test_10, verbose = 1)\n",
        "\n",
        "      average_accuracy = sum([test_acc_5,test_acc_7,test_acc_8,test_acc_9,test_acc_10])/5\n",
        "      accuracy_std = np.std(np.array([test_acc_5,test_acc_7,test_acc_8,test_acc_9,test_acc_10]))\n",
        "\n",
        "      result.append(\"Batch size: \"+ str(BATCH_SIZE) + \" Epoche: \"+ str(EPOCHS) + \" Train acc: \"+ str(history.history['accuracy'][-1])+ \" Test acc: \"+ str(average_accuracy) + \" Test accuracy Std:\" + str(accuracy_std))"
      ],
      "metadata": {
        "id": "9y1dOICFWKFb"
      },
      "execution_count": null,
      "outputs": []
    },
    {
      "cell_type": "code",
      "source": [
        "f=open('chroma_results.txt','w')\n",
        "for ele in result:\n",
        "    f.write(ele+'\\n')\n",
        "\n",
        "f.close()"
      ],
      "metadata": {
        "id": "W-jf4vYFVsyU"
      },
      "execution_count": null,
      "outputs": []
    },
    {
      "cell_type": "code",
      "source": [
        "from google.colab import files\n",
        "files.download('chroma_results.txt')"
      ],
      "metadata": {
        "id": "DV9WY5IwRK2n"
      },
      "execution_count": null,
      "outputs": []
    }
  ],
  "metadata": {
    "accelerator": "GPU",
    "colab": {
      "collapsed_sections": [
        "Q_cVBqb1_jgn",
        "PYwmfjmftord",
        "HZxa4HrdsECc",
        "QpDnIM0KVmdm",
        "bNxcHKO_TIax",
        "2oxR43BjO1wm",
        "ZPAAyofcU8zP",
        "404IYIVJtdMv",
        "vodMHRkgE5i0",
        "mVzVcF3xMItp",
        "XE_6EloeVh-P"
      ],
      "name": "Models.ipynb",
      "provenance": [],
      "include_colab_link": true
    },
    "kernelspec": {
      "display_name": "Python 3",
      "name": "python3"
    },
    "language_info": {
      "name": "python"
    }
  },
  "nbformat": 4,
  "nbformat_minor": 0
}